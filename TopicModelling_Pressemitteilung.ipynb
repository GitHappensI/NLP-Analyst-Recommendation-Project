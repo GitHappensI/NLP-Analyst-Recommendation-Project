{
 "cells": [
  {
   "cell_type": "code",
   "execution_count": 9,
   "metadata": {},
   "outputs": [],
   "source": [
    "from PyPDF2 import PdfReader\n",
    "from pathlib import Path\n",
    "import re"
   ]
  },
  {
   "cell_type": "markdown",
   "metadata": {},
   "source": [
    "## PDF einlesen"
   ]
  },
  {
   "cell_type": "code",
   "execution_count": 10,
   "metadata": {},
   "outputs": [],
   "source": [
    "pdf_path = \"./Pressemitteilung/2023-q4-press-release-de.pdf\""
   ]
  },
  {
   "cell_type": "code",
   "execution_count": 11,
   "metadata": {},
   "outputs": [],
   "source": [
    "pdf = PdfReader(pdf_path)\n",
    "page_one = pdf.pages[0]\n",
    "text = page_one.extract_text()"
   ]
  },
  {
   "cell_type": "code",
   "execution_count": 12,
   "metadata": {},
   "outputs": [],
   "source": [
    "with Path(\"Pressemitteilung_Output.txt\").open(mode=\"w\") as output_file:\n",
    "    text = \"\"\n",
    "    for page in pdf.pages:\n",
    "        text += page.extract_text()\n",
    "    output_file.write(text)"
   ]
  },
  {
   "cell_type": "code",
   "execution_count": 13,
   "metadata": {},
   "outputs": [
    {
     "data": {
      "text/plain": [
       "'  Seite 1/6 \\n  \\nPresse   \\n München , 16. November  2023 \\n \\nStarker Abschluss eines Rekord -\\nGeschäftsjahr es \\n \\n• Auftragseingang im Geschäftsjahr 202 3 auf vergleichbarer Basis um \\n7 Prozent auf 92,3 Milliarden Euro gestiegen (GJ 202 2: 89,0 Milliarden Euro)  \\n• Umsatzerlöse im Geschäftsjahr 202 3 auf vergleichbarer Basis um \\n11 Prozent auf 7 7,8 Milliarden Euro ge wachsen  (GJ 202 2: 72,0 Milliarden \\nEuro)  \\n• Neue Rekordwerte : Ergebnis Industrielles Geschäft von 1 1,4 Milliarden Euro \\n(GJ 2022: 10,3 Milliarden Euro) ; Ergebnismarge Industrielles Geschäft auf \\n15,4 Prozent gestiegen (GJ 202 2: 15,1 Prozent)  \\n• Neue Bestmarke beim  Free Cash Flow auf Konzernebene von 10,0 Milliarden \\nEuro (GJ 202 2: 8,2 Milliarden Euro)  \\n• Gewinn nach Steuern auf historischen Höchststand von 8,5 Milliarden Euro \\nannähernd  verdoppelt  (GJ 2022: 4,4 Milliarden Euro)  \\n• Erhöhte Dividende von 4,70 Euro pro Aktie (GJ 202 2: 4,25 Euro) \\nvorgeschlagen  \\n• Innomotics: Vorbereitung weiterer Optionen zur Eigenständigkeit  \\n• Ausblick Geschäftsjahr 202 4: Siemens  erwartet  ein Umsatzerlöswachstum \\nauf vergleichbarer Basis von 4 bis 8 Prozent und ein unverwässertes \\nErgebnis je Aktie vor PPA -Effekten exklusive des Investments in Siemens \\nEnergy zwischen 10,40  Euro  und 11,00  Euro  \\n \\nSiemens  hat im abgelaufenen Geschäftsjahr 2023 (30. September 202 3) seinen \\nprofitablen Wachstumskurs erfolgreich fortgesetzt und zahlreiche Rekorde erzielt. \\nEine historische Bestl eistung im operativen Geschäft  ließ die Umsatzerlöse im \\nGesamtjahr um 11 Prozent auf vergleichbarer Basis  ohne Währungsumrechnungs - \\nund Portfolioeffekte  auf das obere Ende der angehobenen Prognose  (9 Prozent bis \\nSiemens AG  \\nCommunications  \\nLeitung: Lynette Jackson  \\n Werner -von-Siemens -Straße 1  \\n80333 München  \\nDeutschlan d \\nInformationsnummer:  HQCOPR202311156818DE   Siemens AG  Presseinformation  \\n \\n \\nInformationsnummer: HQCOPR202311156818DE  Seite 2/6 \\n 11 Prozent) steigen . Sowohl das Ergebn is und die Profitabilität des Industriellen \\nGeschäfts  als auch der Gewinn nach Steuern  erreichten neue Rekordwert e. Von \\ndieser hervorragenden Leistung  des Unternehmens sollen auch die Anteilseigner \\nprofitieren. Aufsichtsrat und Vorstand schlagen vor, die Dividende von 4,25 Euro im \\nVorjahr auf 4,70 Euro je Aktie zu erhöhen.  \\n \\n„Das Geschäftsjahr 2023 war ein Jahr mit zahlreichen Rekorden: In unserem \\nIndustriellen Geschäft erreichten wir bei Ergebnis und Profitabilität die höchsten \\nWerte aller Zeiten. Unseren Gewinn nach Steuern haben wir fast verdoppelt und so \\neinen historischen Höchststand erreicht. Ich möchte allen unseren Kolleginnen und \\nKollegen auf der ganzen Welt für ihr großes Engagement danken, mit dem sie zu \\ndiesen hervorragenden Ergebnissen beigetragen haben. Unsere Strategie zahlt sich \\naus und wir beschleunigen weiterhin die digitale und nachhaltige Transformation \\nunserer Kunden”, sa gte Roland Busch, Vorstandsvorsitzender der Siemens AG.  \\n \\n„Siemens hat im Geschäftsjahr 2023 sein wertsteigerndes Wachstum fortgesetzt \\nund erstmals einen Free Cash Flow von mehr als zehn Milliarden Euro erzielt”, \\nsagte Ralf P. Thomas, Chief Financial Officer der Siemens AG. „Von diesem Erfolg \\nprofitieren auch uns ere Aktionärinnen und Aktionäre mit einer vorgeschlagenen \\nErhöhung der Dividende auf 4,70 Euro, einer korrespondierenden Dividendenrendite \\nvon 3,5 Prozent und unserem ausge weiteten Aktienrückkauf.“  \\n \\nGewinn nach Steuern fast verdoppelt – Free Cash Flow mit Bestwert  \\nSiemens steigerte im abgelaufenen Geschäftsjahr die Umsatzerlöse auf \\nvergleichbarer Basis  um 11 Prozent auf 7 7,8 Milliarden  Euro (GJ 202 2: \\n72,0 Milliarden Euro). Der Auftragseingang verzeichnete einen Anstieg auf \\nvergleichbarer Basis um 7  Prozent auf 92,3 Milliarden Euro (GJ 202 2: \\n89,0 Milliarden Euro). Das Verhältnis von Auftragseingang zu Umsatzerlösen \\n(„Book -to-Bill-Ratio“) liegt mit 1, 19 auf einem ausgezeichneten Niveau (GJ 202 2: \\n1,24). Der Auftragsbestand erreichte mit 1 11 Milliarden Euro erneut einen \\nRekordwert mit hoher Qualität.  \\n \\nDas digitale Geschäft wächst weiterhin schnell  und verzeichnete einen Anstieg um \\nrund 12 Prozent auf 7,3 Milliarden Euro (GJ 2022: 6,5 Milliarden Euro). Damit hat Siemens AG  Presseinformation  \\n \\n \\nInformationsnummer: HQCOPR202311156818DE  Seite 3/6 \\n Siemens seine avisierte Wachst umsrate von einem durchschnittlichen jährlichen \\nWachstum von 10 Prozent  in diesem Geschäftsjahr deutlich  übertr offen.  \\n \\nDas Ergebnis  des Industrielle n Geschäft s stieg um 1 1 Prozent  auf 11,4 Milliarden \\nEuro  (GJ 2022: 10,3 Milliarden Euro) . Die Ergebnismarge  des \\nIndustrielle n Geschäft s verbesserte sich auf  15,4 Prozent  (GJ 2022: 15,1 Prozent) . \\nDer Gewinn  nach Steuern erreichte 8,5 Milliarden Euro nach einem Gewinn nach \\nSteuern von 4,4 Milliarden Euro im Geschäftsjahr 202 2. Alle drei Werte  sind \\nBestmarken in der Unternehmensgeschichte. Das unverwässerte Ergebnis je Aktie \\nvor Effekten aus der Kaufpreisallokation (EPS pre PPA) belief sich  entsprechend auf \\n10,77 Euro (GJ  2022: 5,47 Euro); ohne Berücksichtigung der Siemens Energy \\nBeteiligung , die 0,84  Euro  zum EPS pre PPA beitrug, lag das EPS pre PPA bei \\n9,93 Euro und übertraf  die Prognose  (9,60 Euro bis 9,90 Euro) . \\n \\nDer sogenannte Free Cash Flow „all -in“ aus fortgeführten und nicht fortgeführten \\nAktivitäten erreichte auf Konzernebene  einen Rekordwert und lag erstmals bei 10,0 \\nMilliarden Euro  (GJ 202 2: 8,2 Milliarden Euro) . Das Industrielle Geschäft \\nverzeichnete ebenfalls einen neuen Höchstwert beim Free Cash Flow von 10,4 \\nMilliarden Euro (GJ 2022: 9,7  Milliarden Euro).  \\n \\nStarker Abschluss im vierten Quartal  mit Rekorden i n industriellen Geschäften  \\nIm vierten Quartal stieg der Auftragseingang auf vergleichbarer Basis um 6 Prozent \\nauf 21,8 Milliarden Euro mit höherem Volumen aus Großaufträgen bei Mobility \\nsowie  Wachstum bei Siemens Healthineers und Smart Infrastructure . Ebenso \\nstiegen die Umsatzerlöse auf vergleichbarer Basis um 10 Prozent auf 2 1,4 \\nMilliarden Euro (Q4 202 2: 20,6 Milliarden Euro). Die Umsatzerlöse lagen in allen \\nindustriellen Geschäften auf Rekordniveau, wobei der größte Wachstumsbeitrag von \\nSmart Infrastructure kam.  Das Ergebnis des In dustriellen Geschäfts nahm um \\n7 Prozent auf 3,4 Milliarden Euro zu und verzeichnete aufgrund beträchtlicher  \\nZuwächse bei Digital Industries  und Smart Infrastructure  den höchsten jemals \\nerzielten Quartalswert. Die Ergebnismarge erreichte 16,5 Prozent . Der Gewinn nach \\nSteuern betrug 1,9  Milliarden Euro nach 2,9  Milliarden Euro im Vorjahresquartal , \\ndas durch einen Gewinn von 1,1  Milliarden Euro (vor Steuern) aus dem Verkauf des \\nBrief- und Paketabwicklungsgeschäfts  begünstigt war.  \\n Siemens AG  Presseinformation  \\n \\n \\nInformationsnummer: HQCOPR202311156818DE  Seite 4/6 \\n Innomotics: Vorbereitung weiterer Optionen zur Eigenständigkeit   \\nDie Verselbständigung von Innomotics wurde, wie geplant, erfolgreich umgesetzt \\nund ist weitestgehend abgeschlossen. Das neue Unternehmen steht bei Kunden, \\nLieferanten und den über 15.000 Beschäftigten  für Leistungsfähigkeit und \\nInnovationsstärke. Die gute Geschäftsentwicklung und ein gesunder \\nAuftragsbestand unterstreichen die starke Positionierung von Innomotics als \\nführender Anbieter für Großantriebe und Motoren. Damit sind alle Voraussetzungen \\ngescha ffen, die weiteren Schritte zur Eigenständigkeit von In nomotics aus einer \\nPosition der Stärke heraus einzuleiten.   \\n \\nDaher wird Siemens mit der Vorbereitung für eine Börsennotierung von Innomotics \\nbeginnen. Gleichzeitig werden auch Angebote von Dritten sorgfältig geprüft und \\ngegebenenfalls als Alternative zu einer Börsennotierung in Betracht gezogen . Es \\nwird sichergestellt, dass die künftige Eigentümerstruktur beste Rahmenbedingungen \\nfür eine nachhaltige , wachstumsorientierte  und wertsteigernde  Entwicklung bietet.  \\n \\nAusblick für das Geschäftsjahr 2024  \\nDie Prognose für den Siemens -Konzern im Geschäftsjahr 2024 beruht auf der \\nAnnahme, dass die geopolitischen Spannungen nicht weiter zunehmen . Unter \\ndieser Bedingung wird erwartet, dass das Industrielle Geschäft weiter profitabel \\nwachsen wird.  \\n \\nFür den Siemens -Konzern wird ein Umsatzerlöswachstum auf vergleichbarer Basis \\n(bereinigt um Währungsumrechnungs - und Portfolioeffekte) in einer Bandbreite von \\n4 Prozent bis 8 Prozent und ein Verhältnis von Auftragseingang zu Umsatzerlösen \\n(Book -to-Bill-Verhältnis) von über 1 erwartet.  \\n \\nDigital Industries  prognostiziert für das Geschäftsjahr 2024 eine Entwicklung der \\nUmsatzerlöse auf vergleichbarer Basis in einer Bandbreite von 0  Prozent  bis \\n3 Prozent . Dies basiert auf der Annahme, dass nach Abbau der Vorräte bei Kunden \\ndie weltweite Nachfrage in den Automatisierungsgeschäften insbesondere in China \\nin der zweiten Hälfte des Geschäftsjahres wieder anziehen wird. Die Ergebnismarge \\nwird zwischen 20  Prozent  und 23  Prozent  erwartet.  \\n \\n Siemens AG  Presseinformation  \\n \\n \\nInformationsnummer: HQCOPR202311156818DE  Seite 5/6 \\n Smart Infrastructure  erwartet im Geschäftsjahr 2024 ein Umsatzerlöswachstum auf \\nvergleichbarer Basis zwischen 7 Prozent und 10 Prozent und eine Ergebnismarge in \\neiner Bandbreite von 15 Prozent bis 17 Prozent.  \\n \\nMobility  beabsichtigt, im Geschäftsjahr 2024 ein Umsatzerlöswachstum auf \\nvergleichbarer Basis zwischen 8 Prozent und 11 Prozent zu erzielen. Die \\nErgebnismarge wird zwischen 8 Prozent und 10 Prozent erwartet.  \\n \\nEs wird davon ausgegangen, dass im Geschäftsjahr 2024 durch das profitable \\nWachstum des Industriellen Geschäfts ein höheres unverwässertes Ergebnis je \\nAktie (für den Gewinn nach Steuern) vor Effekten aus der Kaufpreisallokation (EPS \\npre PPA), ohne Berücksi chtigung von Siemens Energy Beteiligung, in einer \\nBandbreite von 10,40 Euro bis 11,00 Euro erreicht wird, gegenüber einem EPS pre \\nPPA, ohne Berücksichtigung von Siemens Energy Beteiligung, von 9,93 Euro im \\nGeschäftsjahr 2023.  \\n \\nVon diesem Ausblick sind Belastungen aus rechtlichen und regulatorischen Themen \\nausgenommen.  \\n \\n \\n \\nDiese Presseinformation fin den Sie unter : https://sie.ag/3SNL5N   \\n \\n \\nAnsprechpartner für Journalisten  \\nFlorian Martens  \\nTel.: +49 162 230 -6627 ; E-Mail: florian.martens@siemens.com   \\nKatharina Hilpert  \\nTel.: +49 173 893 -4962; E -Mail: katharina.hilpert@siemens.com  \\nSimon Friedle  \\nTel.: +49 1525 215 -9076 ; E-Mail: simon.friedle@siemens.com  \\n   \\n \\nFolgen Sie uns unter : www.twitter.com/siemens_press   \\n  Siemens AG  Presseinformation  \\n \\n \\nInformationsnummer: HQCOPR202311156818DE  Seite 6/6 \\n Die Siemens AG  (Berlin und München) ist ein führendes Technologieunternehmen mit Fokus auf die Felder \\nIndustrie, Infrastruktur, Mobilität und Gesundheit. Ressourceneffiziente Fabriken, widerstandsfähige Lieferketten, \\nintelligente Gebäude und Stromnetze, emissionsarme un d komfortable Züge und eine fortschrittliche \\nGesundheitsversorgung – das Unternehmen unterstützt seine Kunden mit Technologien, die ihnen konkreten \\nNutzen bieten. Durch die Kombination der realen und der digitalen Welt befähigt Siemens seine Kunden, ihre \\nIndustrien und Märkte zu transformieren und verbessert damit den Alltag für Milliarden von Menschen. Siemens ist \\nmehrheitlicher Eigentümer des börsennotierten Unternehmens Siemens Healthineers – einem weltweit führenden \\nAnbieter von Medizintec hnik, der die Zukunft der Gesundheitsversorgung gestaltet.  \\nIm Geschäftsjahr 2023, das am 30. September 2023 endete, erzielte der Siemens -Konzern einen Umsatz von 77,8 \\nMilliarden Euro und einen Gewinn nach Steuern von 8, 5 Milliarden Euro. Zum 30.09.2023 beschäftigte das \\nUnternehmen weltweit rund 320.000 Menschen. Weitere Informationen finden Sie im Internet unter \\nwww.siemens.com . \\n \\nHinweise und zukunftsgerichtete Aussagen  \\nDieses Dokument enthält Aussagen, die sich auf unseren künftigen Geschäftsverlauf und künftige finanzielle \\nLeistungen sowie auf künftige Siemens betreffende Vorgänge oder Entwicklungen beziehen und zukunftsgerichtete \\nAussagen darstellen können. Diese Aussagen sind erkennbar an Formulierungen wie „erwarten“, „wollen“, \\n„antizipieren“, „beabsichtigen“, „planen“, „glauben“, „anstreben“, „einschätzen“, „werden“ und „vorhersagen“ oder an \\nähnlichen Begriffen. Wir werden gegebenenfalls auch in anderen Berichten, in Prospekten, in Präsentationen, in \\nUnterlagen, die an Aktionäre v erschickt werden, und in Pressemitteilungen zukunftsgerichtete Aussagen tätigen. \\nDes Weiteren können von Zeit zu Zeit unsere Vertreter zukunftsgerichtete Aussagen mündlich machen. Solche \\nAussagen beruhen auf den gegenwärtigen Erwartungen und bestimmten Ann ahmen des Siemens -Managements, \\nvon denen zahlreiche außerhalb des Einflussbereichs von Siemens liegen. Sie unterliegen daher einer Vielzahl von \\nRisiken, Ungewissheiten und Faktoren, die in Veröffentlichungen – insbesondere im Kapitel Bericht über die \\nvorau ssichtliche Entwicklung mit ihren wesentlichen Chancen und Risiken im Zusammengefassten Lagebericht des \\nSiemens -Berichts ( www.siemens.com/siemensbericht ) sowie im Konzernzwischenlagebericht des \\nHalbjahresfinanzberichts (sofern für das aktuelle Berichtsjahr bereits vorliegend), der zusammen mit dem \\nZusammengefassten Lagebericht gelesen werden sollte – beschrieben werden, sich aber nicht auf solche \\nbeschrän ken. Sollten sich eines oder mehrere dieser Risiken oder Ungewissheiten realisieren, sollten behördliche \\nEntscheidungen, Einschätzungen oder Auflagen anders als erwartet ausfallen, sollten Ereignisse von höherer \\nGewalt, wie Pandemien, Unruhen oder kriegeri sche Auseinandersetzungen, eintreten oder sollte es sich erweisen, \\ndass die zugrunde liegenden Erwartungen, einschließlich künftiger Ereignisse, nicht oder später eintreten \\nbeziehungsweise Annahmen nicht korrekt waren, können die tatsächlichen Ergebnisse, Leistungen und Erfolge von \\nSiemens (sowohl negativ als auch positiv) wesentlich von denjenigen Ergebnissen abweichen, die ausdrücklich \\noder implizit in der zukunftsgerichteten Aussage genannt worden sind. Siemens übernimmt keine Verpflichtung und \\nbeabsicht igt auch nicht, diese zukunftsgerichteten Aussagen zu aktualisieren oder bei einer anderen als der \\nerwarteten Entwicklung zu korrigieren.  \\nDieses Dokument enthält – in einschlägigen Rechnungslegungsrahmen nicht genau bestimmte – ergänzende \\nFinanzkennzahlen, die sogenannte alternative Leistungskennzahlen sind oder sein können. Für die Beurteilung der \\nVermögens -, Finanz - und Ertragslage von Sie mens sollten diese ergänzenden Finanzkennzahlen nicht isoliert oder \\nals Alternative zu den im Konzernabschluss dargestellten und im Einklang mit einschlägigen \\nRechnungslegungsrahmen ermittelten Finanzkennzahlen herangezogen werden. Andere Unternehmen, die \\nalternative Leistungskennzahlen mit einer ähnlichen Bezeichnung darstellen oder berichten, können diese anders \\nberechnen.  \\nAufgrund von Rundungen ist es möglich, dass sich einzelne Zahlen in diesem und anderen Dokumenten nicht \\ngenau zur angegebenen Summe addieren und dass dargestellte Prozentangaben nicht genau die absoluten Werte \\nwiderspiegeln, auf die sie sich beziehen.  \\nAlle Angaben sind vorläufig.  '"
      ]
     },
     "execution_count": 13,
     "metadata": {},
     "output_type": "execute_result"
    }
   ],
   "source": [
    "text"
   ]
  },
  {
   "cell_type": "markdown",
   "metadata": {},
   "source": [
    "## PDF bereinigen"
   ]
  },
  {
   "cell_type": "code",
   "execution_count": 14,
   "metadata": {},
   "outputs": [],
   "source": [
    "# Definition der zu entfernenden Patterns\n",
    "pattern_to_remove_1 = r\"\\nSiemens AG  \\nCommunications  \\nLeitung: Lynette Jackson  \\n Werner -von-Siemens -Straße 1  \\n80333 München  \\nDeutschlan d \\nInformationsnummer:  HQCOPR202311156818DE   Siemens AG  Presseinformation  \\n \\n\"\n",
    "pattern_to_remove_2 = r\"\\nInformationsnummer: HQCOPR202311156818DE  Seite 2/6 \\n\"\n",
    "pattern_to_remove_3 = r\"\\nInformationsnummer: HQCOPR202311156818DE  Seite 3/6 \\n\"\n",
    "pattern_to_remove_4 = r\"\\nInformationsnummer: HQCOPR202311156818DE  Seite 4/6 \\n\"\n",
    "pattern_to_remove_5 = r\"\\nInformationsnummer: HQCOPR202311156818DE  Seite 5/6 \\n\"\n",
    "pattern_to_remove_6 = r\"\\nInformationsnummer: HQCOPR202311156818DE  Seite 6/6 \\n\"\n",
    "pattern_to_remove_7 = r\" Siemens AG  Presseinformation  \\n \\n \""
   ]
  },
  {
   "cell_type": "code",
   "execution_count": 15,
   "metadata": {},
   "outputs": [
    {
     "data": {
      "text/plain": [
       "'  Seite 1/6 \\n  \\nPresse   \\n München , 16. November  2023 \\n \\nStarker Abschluss eines Rekord -\\nGeschäftsjahr es \\n \\n• Auftragseingang im Geschäftsjahr 202 3 auf vergleichbarer Basis um \\n7 Prozent auf 92,3 Milliarden Euro gestiegen (GJ 202 2: 89,0 Milliarden Euro)  \\n• Umsatzerlöse im Geschäftsjahr 202 3 auf vergleichbarer Basis um \\n11 Prozent auf 7 7,8 Milliarden Euro ge wachsen  (GJ 202 2: 72,0 Milliarden \\nEuro)  \\n• Neue Rekordwerte : Ergebnis Industrielles Geschäft von 1 1,4 Milliarden Euro \\n(GJ 2022: 10,3 Milliarden Euro) ; Ergebnismarge Industrielles Geschäft auf \\n15,4 Prozent gestiegen (GJ 202 2: 15,1 Prozent)  \\n• Neue Bestmarke beim  Free Cash Flow auf Konzernebene von 10,0 Milliarden \\nEuro (GJ 202 2: 8,2 Milliarden Euro)  \\n• Gewinn nach Steuern auf historischen Höchststand von 8,5 Milliarden Euro \\nannähernd  verdoppelt  (GJ 2022: 4,4 Milliarden Euro)  \\n• Erhöhte Dividende von 4,70 Euro pro Aktie (GJ 202 2: 4,25 Euro) \\nvorgeschlagen  \\n• Innomotics: Vorbereitung weiterer Optionen zur Eigenständigkeit  \\n• Ausblick Geschäftsjahr 202 4: Siemens  erwartet  ein Umsatzerlöswachstum \\nauf vergleichbarer Basis von 4 bis 8 Prozent und ein unverwässertes \\nErgebnis je Aktie vor PPA -Effekten exklusive des Investments in Siemens \\nEnergy zwischen 10,40  Euro  und 11,00  Euro  \\n \\nSiemens  hat im abgelaufenen Geschäftsjahr 2023 (30. September 202 3) seinen \\nprofitablen Wachstumskurs erfolgreich fortgesetzt und zahlreiche Rekorde erzielt. \\nEine historische Bestl eistung im operativen Geschäft  ließ die Umsatzerlöse im \\nGesamtjahr um 11 Prozent auf vergleichbarer Basis  ohne Währungsumrechnungs - \\nund Portfolioeffekte  auf das obere Ende der angehobenen Prognose  (9 Prozent bis   11 Prozent) steigen . Sowohl das Ergebn is und die Profitabilität des Industriellen \\nGeschäfts  als auch der Gewinn nach Steuern  erreichten neue Rekordwert e. Von \\ndieser hervorragenden Leistung  des Unternehmens sollen auch die Anteilseigner \\nprofitieren. Aufsichtsrat und Vorstand schlagen vor, die Dividende von 4,25 Euro im \\nVorjahr auf 4,70 Euro je Aktie zu erhöhen.  \\n \\n„Das Geschäftsjahr 2023 war ein Jahr mit zahlreichen Rekorden: In unserem \\nIndustriellen Geschäft erreichten wir bei Ergebnis und Profitabilität die höchsten \\nWerte aller Zeiten. Unseren Gewinn nach Steuern haben wir fast verdoppelt und so \\neinen historischen Höchststand erreicht. Ich möchte allen unseren Kolleginnen und \\nKollegen auf der ganzen Welt für ihr großes Engagement danken, mit dem sie zu \\ndiesen hervorragenden Ergebnissen beigetragen haben. Unsere Strategie zahlt sich \\naus und wir beschleunigen weiterhin die digitale und nachhaltige Transformation \\nunserer Kunden”, sa gte Roland Busch, Vorstandsvorsitzender der Siemens AG.  \\n \\n„Siemens hat im Geschäftsjahr 2023 sein wertsteigerndes Wachstum fortgesetzt \\nund erstmals einen Free Cash Flow von mehr als zehn Milliarden Euro erzielt”, \\nsagte Ralf P. Thomas, Chief Financial Officer der Siemens AG. „Von diesem Erfolg \\nprofitieren auch uns ere Aktionärinnen und Aktionäre mit einer vorgeschlagenen \\nErhöhung der Dividende auf 4,70 Euro, einer korrespondierenden Dividendenrendite \\nvon 3,5 Prozent und unserem ausge weiteten Aktienrückkauf.“  \\n \\nGewinn nach Steuern fast verdoppelt – Free Cash Flow mit Bestwert  \\nSiemens steigerte im abgelaufenen Geschäftsjahr die Umsatzerlöse auf \\nvergleichbarer Basis  um 11 Prozent auf 7 7,8 Milliarden  Euro (GJ 202 2: \\n72,0 Milliarden Euro). Der Auftragseingang verzeichnete einen Anstieg auf \\nvergleichbarer Basis um 7  Prozent auf 92,3 Milliarden Euro (GJ 202 2: \\n89,0 Milliarden Euro). Das Verhältnis von Auftragseingang zu Umsatzerlösen \\n(„Book -to-Bill-Ratio“) liegt mit 1, 19 auf einem ausgezeichneten Niveau (GJ 202 2: \\n1,24). Der Auftragsbestand erreichte mit 1 11 Milliarden Euro erneut einen \\nRekordwert mit hoher Qualität.  \\n \\nDas digitale Geschäft wächst weiterhin schnell  und verzeichnete einen Anstieg um \\nrund 12 Prozent auf 7,3 Milliarden Euro (GJ 2022: 6,5 Milliarden Euro). Damit hat Siemens seine avisierte Wachst umsrate von einem durchschnittlichen jährlichen \\nWachstum von 10 Prozent  in diesem Geschäftsjahr deutlich  übertr offen.  \\n \\nDas Ergebnis  des Industrielle n Geschäft s stieg um 1 1 Prozent  auf 11,4 Milliarden \\nEuro  (GJ 2022: 10,3 Milliarden Euro) . Die Ergebnismarge  des \\nIndustrielle n Geschäft s verbesserte sich auf  15,4 Prozent  (GJ 2022: 15,1 Prozent) . \\nDer Gewinn  nach Steuern erreichte 8,5 Milliarden Euro nach einem Gewinn nach \\nSteuern von 4,4 Milliarden Euro im Geschäftsjahr 202 2. Alle drei Werte  sind \\nBestmarken in der Unternehmensgeschichte. Das unverwässerte Ergebnis je Aktie \\nvor Effekten aus der Kaufpreisallokation (EPS pre PPA) belief sich  entsprechend auf \\n10,77 Euro (GJ  2022: 5,47 Euro); ohne Berücksichtigung der Siemens Energy \\nBeteiligung , die 0,84  Euro  zum EPS pre PPA beitrug, lag das EPS pre PPA bei \\n9,93 Euro und übertraf  die Prognose  (9,60 Euro bis 9,90 Euro) . \\n \\nDer sogenannte Free Cash Flow „all -in“ aus fortgeführten und nicht fortgeführten \\nAktivitäten erreichte auf Konzernebene  einen Rekordwert und lag erstmals bei 10,0 \\nMilliarden Euro  (GJ 202 2: 8,2 Milliarden Euro) . Das Industrielle Geschäft \\nverzeichnete ebenfalls einen neuen Höchstwert beim Free Cash Flow von 10,4 \\nMilliarden Euro (GJ 2022: 9,7  Milliarden Euro).  \\n \\nStarker Abschluss im vierten Quartal  mit Rekorden i n industriellen Geschäften  \\nIm vierten Quartal stieg der Auftragseingang auf vergleichbarer Basis um 6 Prozent \\nauf 21,8 Milliarden Euro mit höherem Volumen aus Großaufträgen bei Mobility \\nsowie  Wachstum bei Siemens Healthineers und Smart Infrastructure . Ebenso \\nstiegen die Umsatzerlöse auf vergleichbarer Basis um 10 Prozent auf 2 1,4 \\nMilliarden Euro (Q4 202 2: 20,6 Milliarden Euro). Die Umsatzerlöse lagen in allen \\nindustriellen Geschäften auf Rekordniveau, wobei der größte Wachstumsbeitrag von \\nSmart Infrastructure kam.  Das Ergebnis des In dustriellen Geschäfts nahm um \\n7 Prozent auf 3,4 Milliarden Euro zu und verzeichnete aufgrund beträchtlicher  \\nZuwächse bei Digital Industries  und Smart Infrastructure  den höchsten jemals \\nerzielten Quartalswert. Die Ergebnismarge erreichte 16,5 Prozent . Der Gewinn nach \\nSteuern betrug 1,9  Milliarden Euro nach 2,9  Milliarden Euro im Vorjahresquartal , \\ndas durch einen Gewinn von 1,1  Milliarden Euro (vor Steuern) aus dem Verkauf des \\nBrief- und Paketabwicklungsgeschäfts  begünstigt war.  \\n Innomotics: Vorbereitung weiterer Optionen zur Eigenständigkeit   \\nDie Verselbständigung von Innomotics wurde, wie geplant, erfolgreich umgesetzt \\nund ist weitestgehend abgeschlossen. Das neue Unternehmen steht bei Kunden, \\nLieferanten und den über 15.000 Beschäftigten  für Leistungsfähigkeit und \\nInnovationsstärke. Die gute Geschäftsentwicklung und ein gesunder \\nAuftragsbestand unterstreichen die starke Positionierung von Innomotics als \\nführender Anbieter für Großantriebe und Motoren. Damit sind alle Voraussetzungen \\ngescha ffen, die weiteren Schritte zur Eigenständigkeit von In nomotics aus einer \\nPosition der Stärke heraus einzuleiten.   \\n \\nDaher wird Siemens mit der Vorbereitung für eine Börsennotierung von Innomotics \\nbeginnen. Gleichzeitig werden auch Angebote von Dritten sorgfältig geprüft und \\ngegebenenfalls als Alternative zu einer Börsennotierung in Betracht gezogen . Es \\nwird sichergestellt, dass die künftige Eigentümerstruktur beste Rahmenbedingungen \\nfür eine nachhaltige , wachstumsorientierte  und wertsteigernde  Entwicklung bietet.  \\n \\nAusblick für das Geschäftsjahr 2024  \\nDie Prognose für den Siemens -Konzern im Geschäftsjahr 2024 beruht auf der \\nAnnahme, dass die geopolitischen Spannungen nicht weiter zunehmen . Unter \\ndieser Bedingung wird erwartet, dass das Industrielle Geschäft weiter profitabel \\nwachsen wird.  \\n \\nFür den Siemens -Konzern wird ein Umsatzerlöswachstum auf vergleichbarer Basis \\n(bereinigt um Währungsumrechnungs - und Portfolioeffekte) in einer Bandbreite von \\n4 Prozent bis 8 Prozent und ein Verhältnis von Auftragseingang zu Umsatzerlösen \\n(Book -to-Bill-Verhältnis) von über 1 erwartet.  \\n \\nDigital Industries  prognostiziert für das Geschäftsjahr 2024 eine Entwicklung der \\nUmsatzerlöse auf vergleichbarer Basis in einer Bandbreite von 0  Prozent  bis \\n3 Prozent . Dies basiert auf der Annahme, dass nach Abbau der Vorräte bei Kunden \\ndie weltweite Nachfrage in den Automatisierungsgeschäften insbesondere in China \\nin der zweiten Hälfte des Geschäftsjahres wieder anziehen wird. Die Ergebnismarge \\nwird zwischen 20  Prozent  und 23  Prozent  erwartet.  \\n \\n Smart Infrastructure  erwartet im Geschäftsjahr 2024 ein Umsatzerlöswachstum auf \\nvergleichbarer Basis zwischen 7 Prozent und 10 Prozent und eine Ergebnismarge in \\neiner Bandbreite von 15 Prozent bis 17 Prozent.  \\n \\nMobility  beabsichtigt, im Geschäftsjahr 2024 ein Umsatzerlöswachstum auf \\nvergleichbarer Basis zwischen 8 Prozent und 11 Prozent zu erzielen. Die \\nErgebnismarge wird zwischen 8 Prozent und 10 Prozent erwartet.  \\n \\nEs wird davon ausgegangen, dass im Geschäftsjahr 2024 durch das profitable \\nWachstum des Industriellen Geschäfts ein höheres unverwässertes Ergebnis je \\nAktie (für den Gewinn nach Steuern) vor Effekten aus der Kaufpreisallokation (EPS \\npre PPA), ohne Berücksi chtigung von Siemens Energy Beteiligung, in einer \\nBandbreite von 10,40 Euro bis 11,00 Euro erreicht wird, gegenüber einem EPS pre \\nPPA, ohne Berücksichtigung von Siemens Energy Beteiligung, von 9,93 Euro im \\nGeschäftsjahr 2023.  \\n \\nVon diesem Ausblick sind Belastungen aus rechtlichen und regulatorischen Themen \\nausgenommen.  \\n \\n \\n \\nDiese Presseinformation fin den Sie unter : https://sie.ag/3SNL5N   \\n \\n \\nAnsprechpartner für Journalisten  \\nFlorian Martens  \\nTel.: +49 162 230 -6627 ; E-Mail: florian.martens@siemens.com   \\nKatharina Hilpert  \\nTel.: +49 173 893 -4962; E -Mail: katharina.hilpert@siemens.com  \\nSimon Friedle  \\nTel.: +49 1525 215 -9076 ; E-Mail: simon.friedle@siemens.com  \\n   \\n \\nFolgen Sie uns unter : www.twitter.com/siemens_press   \\n  Die Siemens AG  (Berlin und München) ist ein führendes Technologieunternehmen mit Fokus auf die Felder \\nIndustrie, Infrastruktur, Mobilität und Gesundheit. Ressourceneffiziente Fabriken, widerstandsfähige Lieferketten, \\nintelligente Gebäude und Stromnetze, emissionsarme un d komfortable Züge und eine fortschrittliche \\nGesundheitsversorgung – das Unternehmen unterstützt seine Kunden mit Technologien, die ihnen konkreten \\nNutzen bieten. Durch die Kombination der realen und der digitalen Welt befähigt Siemens seine Kunden, ihre \\nIndustrien und Märkte zu transformieren und verbessert damit den Alltag für Milliarden von Menschen. Siemens ist \\nmehrheitlicher Eigentümer des börsennotierten Unternehmens Siemens Healthineers – einem weltweit führenden \\nAnbieter von Medizintec hnik, der die Zukunft der Gesundheitsversorgung gestaltet.  \\nIm Geschäftsjahr 2023, das am 30. September 2023 endete, erzielte der Siemens -Konzern einen Umsatz von 77,8 \\nMilliarden Euro und einen Gewinn nach Steuern von 8, 5 Milliarden Euro. Zum 30.09.2023 beschäftigte das \\nUnternehmen weltweit rund 320.000 Menschen. Weitere Informationen finden Sie im Internet unter \\nwww.siemens.com . \\n \\nHinweise und zukunftsgerichtete Aussagen  \\nDieses Dokument enthält Aussagen, die sich auf unseren künftigen Geschäftsverlauf und künftige finanzielle \\nLeistungen sowie auf künftige Siemens betreffende Vorgänge oder Entwicklungen beziehen und zukunftsgerichtete \\nAussagen darstellen können. Diese Aussagen sind erkennbar an Formulierungen wie „erwarten“, „wollen“, \\n„antizipieren“, „beabsichtigen“, „planen“, „glauben“, „anstreben“, „einschätzen“, „werden“ und „vorhersagen“ oder an \\nähnlichen Begriffen. Wir werden gegebenenfalls auch in anderen Berichten, in Prospekten, in Präsentationen, in \\nUnterlagen, die an Aktionäre v erschickt werden, und in Pressemitteilungen zukunftsgerichtete Aussagen tätigen. \\nDes Weiteren können von Zeit zu Zeit unsere Vertreter zukunftsgerichtete Aussagen mündlich machen. Solche \\nAussagen beruhen auf den gegenwärtigen Erwartungen und bestimmten Ann ahmen des Siemens -Managements, \\nvon denen zahlreiche außerhalb des Einflussbereichs von Siemens liegen. Sie unterliegen daher einer Vielzahl von \\nRisiken, Ungewissheiten und Faktoren, die in Veröffentlichungen – insbesondere im Kapitel Bericht über die \\nvorau ssichtliche Entwicklung mit ihren wesentlichen Chancen und Risiken im Zusammengefassten Lagebericht des \\nSiemens -Berichts ( www.siemens.com/siemensbericht ) sowie im Konzernzwischenlagebericht des \\nHalbjahresfinanzberichts (sofern für das aktuelle Berichtsjahr bereits vorliegend), der zusammen mit dem \\nZusammengefassten Lagebericht gelesen werden sollte – beschrieben werden, sich aber nicht auf solche \\nbeschrän ken. Sollten sich eines oder mehrere dieser Risiken oder Ungewissheiten realisieren, sollten behördliche \\nEntscheidungen, Einschätzungen oder Auflagen anders als erwartet ausfallen, sollten Ereignisse von höherer \\nGewalt, wie Pandemien, Unruhen oder kriegeri sche Auseinandersetzungen, eintreten oder sollte es sich erweisen, \\ndass die zugrunde liegenden Erwartungen, einschließlich künftiger Ereignisse, nicht oder später eintreten \\nbeziehungsweise Annahmen nicht korrekt waren, können die tatsächlichen Ergebnisse, Leistungen und Erfolge von \\nSiemens (sowohl negativ als auch positiv) wesentlich von denjenigen Ergebnissen abweichen, die ausdrücklich \\noder implizit in der zukunftsgerichteten Aussage genannt worden sind. Siemens übernimmt keine Verpflichtung und \\nbeabsicht igt auch nicht, diese zukunftsgerichteten Aussagen zu aktualisieren oder bei einer anderen als der \\nerwarteten Entwicklung zu korrigieren.  \\nDieses Dokument enthält – in einschlägigen Rechnungslegungsrahmen nicht genau bestimmte – ergänzende \\nFinanzkennzahlen, die sogenannte alternative Leistungskennzahlen sind oder sein können. Für die Beurteilung der \\nVermögens -, Finanz - und Ertragslage von Sie mens sollten diese ergänzenden Finanzkennzahlen nicht isoliert oder \\nals Alternative zu den im Konzernabschluss dargestellten und im Einklang mit einschlägigen \\nRechnungslegungsrahmen ermittelten Finanzkennzahlen herangezogen werden. Andere Unternehmen, die \\nalternative Leistungskennzahlen mit einer ähnlichen Bezeichnung darstellen oder berichten, können diese anders \\nberechnen.  \\nAufgrund von Rundungen ist es möglich, dass sich einzelne Zahlen in diesem und anderen Dokumenten nicht \\ngenau zur angegebenen Summe addieren und dass dargestellte Prozentangaben nicht genau die absoluten Werte \\nwiderspiegeln, auf die sie sich beziehen.  \\nAlle Angaben sind vorläufig.  '"
      ]
     },
     "execution_count": 15,
     "metadata": {},
     "output_type": "execute_result"
    }
   ],
   "source": [
    "# Entfernen der Patterns aus der PDF\n",
    "text_without_paragraph = re.sub(pattern_to_remove_1, \"\", text)\n",
    "text_without_paragraph = re.sub(pattern_to_remove_2, \"\", text_without_paragraph)\n",
    "text_without_paragraph = re.sub(pattern_to_remove_3, \"\", text_without_paragraph)\n",
    "text_without_paragraph = re.sub(pattern_to_remove_4, \"\", text_without_paragraph)\n",
    "text_without_paragraph = re.sub(pattern_to_remove_5, \"\", text_without_paragraph)\n",
    "text_without_paragraph = re.sub(pattern_to_remove_6, \"\", text_without_paragraph)\n",
    "text_without_paragraph = re.sub(pattern_to_remove_7, \"\", text_without_paragraph)\n",
    "text_without_paragraph"
   ]
  },
  {
   "cell_type": "code",
   "execution_count": 16,
   "metadata": {},
   "outputs": [],
   "source": [
    "# Trennen Sie den Text nach zwei Zeilenumbrüchen, um Kapitel zu untergliedern\n",
    "sections = re.split(r'\\n\\s*\\n', text_without_paragraph)"
   ]
  },
  {
   "cell_type": "code",
   "execution_count": 17,
   "metadata": {},
   "outputs": [
    {
     "name": "stdout",
     "output_type": "stream",
     "text": [
      "Header:\n",
      "Starker Abschluss eines Rekord -\n",
      "Geschäftsjahr es \n",
      "\n",
      "Summary:\n",
      "• Auftragseingang im Geschäftsjahr 202 3 auf vergleichbarer Basis um \n",
      "7 Prozent auf 92,3 Milliarden Euro gestiegen (GJ 202 2: 89,0 Milliarden Euro)  \n",
      "• Umsatzerlöse im Geschäftsjahr 202 3 auf vergleichbarer Basis um \n",
      "11 Prozent auf 7 7,8 Milliarden Euro ge wachsen  (GJ 202 2: 72,0 Milliarden \n",
      "Euro)  \n",
      "• Neue Rekordwerte : Ergebnis Industrielles Geschäft von 1 1,4 Milliarden Euro \n",
      "(GJ 2022: 10,3 Milliarden Euro) ; Ergebnismarge Industrielles Geschäft auf \n",
      "15,4 Prozent gestiegen (GJ 202 2: 15,1 Prozent)  \n",
      "• Neue Bestmarke beim  Free Cash Flow auf Konzernebene von 10,0 Milliarden \n",
      "Euro (GJ 202 2: 8,2 Milliarden Euro)  \n",
      "• Gewinn nach Steuern auf historischen Höchststand von 8,5 Milliarden Euro \n",
      "annähernd  verdoppelt  (GJ 2022: 4,4 Milliarden Euro)  \n",
      "• Erhöhte Dividende von 4,70 Euro pro Aktie (GJ 202 2: 4,25 Euro) \n",
      "vorgeschlagen  \n",
      "• Innomotics: Vorbereitung weiterer Optionen zur Eigenständigkeit  \n",
      "• Ausblick Geschäftsjahr 202 4: Siemens  erwartet  ein Umsatzerlöswachstum \n",
      "auf vergleichbarer Basis von 4 bis 8 Prozent und ein unverwässertes \n",
      "Ergebnis je Aktie vor PPA -Effekten exklusive des Investments in Siemens \n",
      "Energy zwischen 10,40  Euro  und 11,00  Euro  \n",
      "\n",
      "Text_1:\n",
      "Siemens  hat im abgelaufenen Geschäftsjahr 2023 (30. September 202 3) seinen \n",
      "profitablen Wachstumskurs erfolgreich fortgesetzt und zahlreiche Rekorde erzielt. \n",
      "Eine historische Bestl eistung im operativen Geschäft  ließ die Umsatzerlöse im \n",
      "Gesamtjahr um 11 Prozent auf vergleichbarer Basis  ohne Währungsumrechnungs - \n",
      "und Portfolioeffekte  auf das obere Ende der angehobenen Prognose  (9 Prozent bis   11 Prozent) steigen . Sowohl das Ergebn is und die Profitabilität des Industriellen \n",
      "Geschäfts  als auch der Gewinn nach Steuern  erreichten neue Rekordwert e. Von \n",
      "dieser hervorragenden Leistung  des Unternehmens sollen auch die Anteilseigner \n",
      "profitieren. Aufsichtsrat und Vorstand schlagen vor, die Dividende von 4,25 Euro im \n",
      "Vorjahr auf 4,70 Euro je Aktie zu erhöhen.  \n",
      "\n",
      "Text_2:\n",
      "„Das Geschäftsjahr 2023 war ein Jahr mit zahlreichen Rekorden: In unserem \n",
      "Industriellen Geschäft erreichten wir bei Ergebnis und Profitabilität die höchsten \n",
      "Werte aller Zeiten. Unseren Gewinn nach Steuern haben wir fast verdoppelt und so \n",
      "einen historischen Höchststand erreicht. Ich möchte allen unseren Kolleginnen und \n",
      "Kollegen auf der ganzen Welt für ihr großes Engagement danken, mit dem sie zu \n",
      "diesen hervorragenden Ergebnissen beigetragen haben. Unsere Strategie zahlt sich \n",
      "aus und wir beschleunigen weiterhin die digitale und nachhaltige Transformation \n",
      "unserer Kunden”, sa gte Roland Busch, Vorstandsvorsitzender der Siemens AG.  \n",
      "\n",
      "Text_3:\n",
      "„Siemens hat im Geschäftsjahr 2023 sein wertsteigerndes Wachstum fortgesetzt \n",
      "und erstmals einen Free Cash Flow von mehr als zehn Milliarden Euro erzielt”, \n",
      "sagte Ralf P. Thomas, Chief Financial Officer der Siemens AG. „Von diesem Erfolg \n",
      "profitieren auch uns ere Aktionärinnen und Aktionäre mit einer vorgeschlagenen \n",
      "Erhöhung der Dividende auf 4,70 Euro, einer korrespondierenden Dividendenrendite \n",
      "von 3,5 Prozent und unserem ausge weiteten Aktienrückkauf.“  \n",
      "\n",
      "Text_4:\n",
      "Gewinn nach Steuern fast verdoppelt – Free Cash Flow mit Bestwert  \n",
      "Siemens steigerte im abgelaufenen Geschäftsjahr die Umsatzerlöse auf \n",
      "vergleichbarer Basis  um 11 Prozent auf 7 7,8 Milliarden  Euro (GJ 202 2: \n",
      "72,0 Milliarden Euro). Der Auftragseingang verzeichnete einen Anstieg auf \n",
      "vergleichbarer Basis um 7  Prozent auf 92,3 Milliarden Euro (GJ 202 2: \n",
      "89,0 Milliarden Euro). Das Verhältnis von Auftragseingang zu Umsatzerlösen \n",
      "(„Book -to-Bill-Ratio“) liegt mit 1, 19 auf einem ausgezeichneten Niveau (GJ 202 2: \n",
      "1,24). Der Auftragsbestand erreichte mit 1 11 Milliarden Euro erneut einen \n",
      "Rekordwert mit hoher Qualität.  \n",
      "\n",
      "Text_5:\n",
      "Das digitale Geschäft wächst weiterhin schnell  und verzeichnete einen Anstieg um \n",
      "rund 12 Prozent auf 7,3 Milliarden Euro (GJ 2022: 6,5 Milliarden Euro). Damit hat Siemens seine avisierte Wachst umsrate von einem durchschnittlichen jährlichen \n",
      "Wachstum von 10 Prozent  in diesem Geschäftsjahr deutlich  übertr offen.  \n",
      "\n",
      "Text_6:\n",
      "Das Ergebnis  des Industrielle n Geschäft s stieg um 1 1 Prozent  auf 11,4 Milliarden \n",
      "Euro  (GJ 2022: 10,3 Milliarden Euro) . Die Ergebnismarge  des \n",
      "Industrielle n Geschäft s verbesserte sich auf  15,4 Prozent  (GJ 2022: 15,1 Prozent) . \n",
      "Der Gewinn  nach Steuern erreichte 8,5 Milliarden Euro nach einem Gewinn nach \n",
      "Steuern von 4,4 Milliarden Euro im Geschäftsjahr 202 2. Alle drei Werte  sind \n",
      "Bestmarken in der Unternehmensgeschichte. Das unverwässerte Ergebnis je Aktie \n",
      "vor Effekten aus der Kaufpreisallokation (EPS pre PPA) belief sich  entsprechend auf \n",
      "10,77 Euro (GJ  2022: 5,47 Euro); ohne Berücksichtigung der Siemens Energy \n",
      "Beteiligung , die 0,84  Euro  zum EPS pre PPA beitrug, lag das EPS pre PPA bei \n",
      "9,93 Euro und übertraf  die Prognose  (9,60 Euro bis 9,90 Euro) . \n",
      "\n",
      "Text_7:\n",
      "Der sogenannte Free Cash Flow „all -in“ aus fortgeführten und nicht fortgeführten \n",
      "Aktivitäten erreichte auf Konzernebene  einen Rekordwert und lag erstmals bei 10,0 \n",
      "Milliarden Euro  (GJ 202 2: 8,2 Milliarden Euro) . Das Industrielle Geschäft \n",
      "verzeichnete ebenfalls einen neuen Höchstwert beim Free Cash Flow von 10,4 \n",
      "Milliarden Euro (GJ 2022: 9,7  Milliarden Euro).  \n",
      "\n",
      "Text_8:\n",
      "Starker Abschluss im vierten Quartal  mit Rekorden i n industriellen Geschäften  \n",
      "Im vierten Quartal stieg der Auftragseingang auf vergleichbarer Basis um 6 Prozent \n",
      "auf 21,8 Milliarden Euro mit höherem Volumen aus Großaufträgen bei Mobility \n",
      "sowie  Wachstum bei Siemens Healthineers und Smart Infrastructure . Ebenso \n",
      "stiegen die Umsatzerlöse auf vergleichbarer Basis um 10 Prozent auf 2 1,4 \n",
      "Milliarden Euro (Q4 202 2: 20,6 Milliarden Euro). Die Umsatzerlöse lagen in allen \n",
      "industriellen Geschäften auf Rekordniveau, wobei der größte Wachstumsbeitrag von \n",
      "Smart Infrastructure kam.  Das Ergebnis des In dustriellen Geschäfts nahm um \n",
      "7 Prozent auf 3,4 Milliarden Euro zu und verzeichnete aufgrund beträchtlicher  \n",
      "Zuwächse bei Digital Industries  und Smart Infrastructure  den höchsten jemals \n",
      "erzielten Quartalswert. Die Ergebnismarge erreichte 16,5 Prozent . Der Gewinn nach \n",
      "Steuern betrug 1,9  Milliarden Euro nach 2,9  Milliarden Euro im Vorjahresquartal , \n",
      "das durch einen Gewinn von 1,1  Milliarden Euro (vor Steuern) aus dem Verkauf des \n",
      "Brief- und Paketabwicklungsgeschäfts  begünstigt war.  \n",
      " Innomotics: Vorbereitung weiterer Optionen zur Eigenständigkeit   \n",
      "Die Verselbständigung von Innomotics wurde, wie geplant, erfolgreich umgesetzt \n",
      "und ist weitestgehend abgeschlossen. Das neue Unternehmen steht bei Kunden, \n",
      "Lieferanten und den über 15.000 Beschäftigten  für Leistungsfähigkeit und \n",
      "Innovationsstärke. Die gute Geschäftsentwicklung und ein gesunder \n",
      "Auftragsbestand unterstreichen die starke Positionierung von Innomotics als \n",
      "führender Anbieter für Großantriebe und Motoren. Damit sind alle Voraussetzungen \n",
      "gescha ffen, die weiteren Schritte zur Eigenständigkeit von In nomotics aus einer \n",
      "Position der Stärke heraus einzuleiten.   \n",
      "\n",
      "Text_9:\n",
      "Daher wird Siemens mit der Vorbereitung für eine Börsennotierung von Innomotics \n",
      "beginnen. Gleichzeitig werden auch Angebote von Dritten sorgfältig geprüft und \n",
      "gegebenenfalls als Alternative zu einer Börsennotierung in Betracht gezogen . Es \n",
      "wird sichergestellt, dass die künftige Eigentümerstruktur beste Rahmenbedingungen \n",
      "für eine nachhaltige , wachstumsorientierte  und wertsteigernde  Entwicklung bietet.  \n",
      "\n",
      "Text_10:\n",
      "Ausblick für das Geschäftsjahr 2024  \n",
      "Die Prognose für den Siemens -Konzern im Geschäftsjahr 2024 beruht auf der \n",
      "Annahme, dass die geopolitischen Spannungen nicht weiter zunehmen . Unter \n",
      "dieser Bedingung wird erwartet, dass das Industrielle Geschäft weiter profitabel \n",
      "wachsen wird.  \n",
      "\n",
      "Text_11:\n",
      "Für den Siemens -Konzern wird ein Umsatzerlöswachstum auf vergleichbarer Basis \n",
      "(bereinigt um Währungsumrechnungs - und Portfolioeffekte) in einer Bandbreite von \n",
      "4 Prozent bis 8 Prozent und ein Verhältnis von Auftragseingang zu Umsatzerlösen \n",
      "(Book -to-Bill-Verhältnis) von über 1 erwartet.  \n",
      "\n",
      "Text_12:\n",
      "Digital Industries  prognostiziert für das Geschäftsjahr 2024 eine Entwicklung der \n",
      "Umsatzerlöse auf vergleichbarer Basis in einer Bandbreite von 0  Prozent  bis \n",
      "3 Prozent . Dies basiert auf der Annahme, dass nach Abbau der Vorräte bei Kunden \n",
      "die weltweite Nachfrage in den Automatisierungsgeschäften insbesondere in China \n",
      "in der zweiten Hälfte des Geschäftsjahres wieder anziehen wird. Die Ergebnismarge \n",
      "wird zwischen 20  Prozent  und 23  Prozent  erwartet.  \n",
      "\n",
      "Text_13:\n",
      " Smart Infrastructure  erwartet im Geschäftsjahr 2024 ein Umsatzerlöswachstum auf \n",
      "vergleichbarer Basis zwischen 7 Prozent und 10 Prozent und eine Ergebnismarge in \n",
      "einer Bandbreite von 15 Prozent bis 17 Prozent.  \n",
      "\n",
      "Text_14:\n",
      "Mobility  beabsichtigt, im Geschäftsjahr 2024 ein Umsatzerlöswachstum auf \n",
      "vergleichbarer Basis zwischen 8 Prozent und 11 Prozent zu erzielen. Die \n",
      "Ergebnismarge wird zwischen 8 Prozent und 10 Prozent erwartet.  \n",
      "\n",
      "Text_15:\n",
      "Es wird davon ausgegangen, dass im Geschäftsjahr 2024 durch das profitable \n",
      "Wachstum des Industriellen Geschäfts ein höheres unverwässertes Ergebnis je \n",
      "Aktie (für den Gewinn nach Steuern) vor Effekten aus der Kaufpreisallokation (EPS \n",
      "pre PPA), ohne Berücksi chtigung von Siemens Energy Beteiligung, in einer \n",
      "Bandbreite von 10,40 Euro bis 11,00 Euro erreicht wird, gegenüber einem EPS pre \n",
      "PPA, ohne Berücksichtigung von Siemens Energy Beteiligung, von 9,93 Euro im \n",
      "Geschäftsjahr 2023.  \n",
      "\n"
     ]
    }
   ],
   "source": [
    "# Separieren der unterschiedlichen Kapitel\n",
    "if sections:\n",
    "    header = sections[2]\n",
    "    print(\"Header:\")\n",
    "    print(header + \"\\n\")\n",
    "\n",
    "    summary = sections[3]\n",
    "    print(\"Summary:\")\n",
    "    print(summary + \"\\n\")\n",
    "\n",
    "    # Iteriere über die Texte und drucke sie aus\n",
    "    for i in range(4, 19):\n",
    "        text_i = sections[i]\n",
    "        print(f\"Text_{i-3}:\")\n",
    "        print(text_i + \"\\n\")"
   ]
  },
  {
   "cell_type": "code",
   "execution_count": 18,
   "metadata": {},
   "outputs": [],
   "source": [
    "# text_1 bis text_15 zusammenführen\n",
    "texts = []\n",
    "\n",
    "for i in range(4, 19):\n",
    "    texts.append(sections[i])"
   ]
  },
  {
   "cell_type": "code",
   "execution_count": 19,
   "metadata": {},
   "outputs": [
    {
     "data": {
      "text/plain": [
       "'Siemens  hat im abgelaufenen Geschäftsjahr 2023 (30. September 202 3) seinen \\nprofitablen Wachstumskurs erfolgreich fortgesetzt und zahlreiche Rekorde erzielt. \\nEine historische Bestl eistung im operativen Geschäft  ließ die Umsatzerlöse im \\nGesamtjahr um 11 Prozent auf vergleichbarer Basis  ohne Währungsumrechnungs - \\nund Portfolioeffekte  auf das obere Ende der angehobenen Prognose  (9 Prozent bis   11 Prozent) steigen . Sowohl das Ergebn is und die Profitabilität des Industriellen \\nGeschäfts  als auch der Gewinn nach Steuern  erreichten neue Rekordwert e. Von \\ndieser hervorragenden Leistung  des Unternehmens sollen auch die Anteilseigner \\nprofitieren. Aufsichtsrat und Vorstand schlagen vor, die Dividende von 4,25 Euro im \\nVorjahr auf 4,70 Euro je Aktie zu erhöhen.  \\n„Das Geschäftsjahr 2023 war ein Jahr mit zahlreichen Rekorden: In unserem \\nIndustriellen Geschäft erreichten wir bei Ergebnis und Profitabilität die höchsten \\nWerte aller Zeiten. Unseren Gewinn nach Steuern haben wir fast verdoppelt und so \\neinen historischen Höchststand erreicht. Ich möchte allen unseren Kolleginnen und \\nKollegen auf der ganzen Welt für ihr großes Engagement danken, mit dem sie zu \\ndiesen hervorragenden Ergebnissen beigetragen haben. Unsere Strategie zahlt sich \\naus und wir beschleunigen weiterhin die digitale und nachhaltige Transformation \\nunserer Kunden”, sa gte Roland Busch, Vorstandsvorsitzender der Siemens AG.  \\n„Siemens hat im Geschäftsjahr 2023 sein wertsteigerndes Wachstum fortgesetzt \\nund erstmals einen Free Cash Flow von mehr als zehn Milliarden Euro erzielt”, \\nsagte Ralf P. Thomas, Chief Financial Officer der Siemens AG. „Von diesem Erfolg \\nprofitieren auch uns ere Aktionärinnen und Aktionäre mit einer vorgeschlagenen \\nErhöhung der Dividende auf 4,70 Euro, einer korrespondierenden Dividendenrendite \\nvon 3,5 Prozent und unserem ausge weiteten Aktienrückkauf.“  \\nGewinn nach Steuern fast verdoppelt – Free Cash Flow mit Bestwert  \\nSiemens steigerte im abgelaufenen Geschäftsjahr die Umsatzerlöse auf \\nvergleichbarer Basis  um 11 Prozent auf 7 7,8 Milliarden  Euro (GJ 202 2: \\n72,0 Milliarden Euro). Der Auftragseingang verzeichnete einen Anstieg auf \\nvergleichbarer Basis um 7  Prozent auf 92,3 Milliarden Euro (GJ 202 2: \\n89,0 Milliarden Euro). Das Verhältnis von Auftragseingang zu Umsatzerlösen \\n(„Book -to-Bill-Ratio“) liegt mit 1, 19 auf einem ausgezeichneten Niveau (GJ 202 2: \\n1,24). Der Auftragsbestand erreichte mit 1 11 Milliarden Euro erneut einen \\nRekordwert mit hoher Qualität.  \\nDas digitale Geschäft wächst weiterhin schnell  und verzeichnete einen Anstieg um \\nrund 12 Prozent auf 7,3 Milliarden Euro (GJ 2022: 6,5 Milliarden Euro). Damit hat Siemens seine avisierte Wachst umsrate von einem durchschnittlichen jährlichen \\nWachstum von 10 Prozent  in diesem Geschäftsjahr deutlich  übertr offen.  \\nDas Ergebnis  des Industrielle n Geschäft s stieg um 1 1 Prozent  auf 11,4 Milliarden \\nEuro  (GJ 2022: 10,3 Milliarden Euro) . Die Ergebnismarge  des \\nIndustrielle n Geschäft s verbesserte sich auf  15,4 Prozent  (GJ 2022: 15,1 Prozent) . \\nDer Gewinn  nach Steuern erreichte 8,5 Milliarden Euro nach einem Gewinn nach \\nSteuern von 4,4 Milliarden Euro im Geschäftsjahr 202 2. Alle drei Werte  sind \\nBestmarken in der Unternehmensgeschichte. Das unverwässerte Ergebnis je Aktie \\nvor Effekten aus der Kaufpreisallokation (EPS pre PPA) belief sich  entsprechend auf \\n10,77 Euro (GJ  2022: 5,47 Euro); ohne Berücksichtigung der Siemens Energy \\nBeteiligung , die 0,84  Euro  zum EPS pre PPA beitrug, lag das EPS pre PPA bei \\n9,93 Euro und übertraf  die Prognose  (9,60 Euro bis 9,90 Euro) . \\nDer sogenannte Free Cash Flow „all -in“ aus fortgeführten und nicht fortgeführten \\nAktivitäten erreichte auf Konzernebene  einen Rekordwert und lag erstmals bei 10,0 \\nMilliarden Euro  (GJ 202 2: 8,2 Milliarden Euro) . Das Industrielle Geschäft \\nverzeichnete ebenfalls einen neuen Höchstwert beim Free Cash Flow von 10,4 \\nMilliarden Euro (GJ 2022: 9,7  Milliarden Euro).  \\nStarker Abschluss im vierten Quartal  mit Rekorden i n industriellen Geschäften  \\nIm vierten Quartal stieg der Auftragseingang auf vergleichbarer Basis um 6 Prozent \\nauf 21,8 Milliarden Euro mit höherem Volumen aus Großaufträgen bei Mobility \\nsowie  Wachstum bei Siemens Healthineers und Smart Infrastructure . Ebenso \\nstiegen die Umsatzerlöse auf vergleichbarer Basis um 10 Prozent auf 2 1,4 \\nMilliarden Euro (Q4 202 2: 20,6 Milliarden Euro). Die Umsatzerlöse lagen in allen \\nindustriellen Geschäften auf Rekordniveau, wobei der größte Wachstumsbeitrag von \\nSmart Infrastructure kam.  Das Ergebnis des In dustriellen Geschäfts nahm um \\n7 Prozent auf 3,4 Milliarden Euro zu und verzeichnete aufgrund beträchtlicher  \\nZuwächse bei Digital Industries  und Smart Infrastructure  den höchsten jemals \\nerzielten Quartalswert. Die Ergebnismarge erreichte 16,5 Prozent . Der Gewinn nach \\nSteuern betrug 1,9  Milliarden Euro nach 2,9  Milliarden Euro im Vorjahresquartal , \\ndas durch einen Gewinn von 1,1  Milliarden Euro (vor Steuern) aus dem Verkauf des \\nBrief- und Paketabwicklungsgeschäfts  begünstigt war.  \\n Innomotics: Vorbereitung weiterer Optionen zur Eigenständigkeit   \\nDie Verselbständigung von Innomotics wurde, wie geplant, erfolgreich umgesetzt \\nund ist weitestgehend abgeschlossen. Das neue Unternehmen steht bei Kunden, \\nLieferanten und den über 15.000 Beschäftigten  für Leistungsfähigkeit und \\nInnovationsstärke. Die gute Geschäftsentwicklung und ein gesunder \\nAuftragsbestand unterstreichen die starke Positionierung von Innomotics als \\nführender Anbieter für Großantriebe und Motoren. Damit sind alle Voraussetzungen \\ngescha ffen, die weiteren Schritte zur Eigenständigkeit von In nomotics aus einer \\nPosition der Stärke heraus einzuleiten.   \\nDaher wird Siemens mit der Vorbereitung für eine Börsennotierung von Innomotics \\nbeginnen. Gleichzeitig werden auch Angebote von Dritten sorgfältig geprüft und \\ngegebenenfalls als Alternative zu einer Börsennotierung in Betracht gezogen . Es \\nwird sichergestellt, dass die künftige Eigentümerstruktur beste Rahmenbedingungen \\nfür eine nachhaltige , wachstumsorientierte  und wertsteigernde  Entwicklung bietet.  \\nAusblick für das Geschäftsjahr 2024  \\nDie Prognose für den Siemens -Konzern im Geschäftsjahr 2024 beruht auf der \\nAnnahme, dass die geopolitischen Spannungen nicht weiter zunehmen . Unter \\ndieser Bedingung wird erwartet, dass das Industrielle Geschäft weiter profitabel \\nwachsen wird.  \\nFür den Siemens -Konzern wird ein Umsatzerlöswachstum auf vergleichbarer Basis \\n(bereinigt um Währungsumrechnungs - und Portfolioeffekte) in einer Bandbreite von \\n4 Prozent bis 8 Prozent und ein Verhältnis von Auftragseingang zu Umsatzerlösen \\n(Book -to-Bill-Verhältnis) von über 1 erwartet.  \\nDigital Industries  prognostiziert für das Geschäftsjahr 2024 eine Entwicklung der \\nUmsatzerlöse auf vergleichbarer Basis in einer Bandbreite von 0  Prozent  bis \\n3 Prozent . Dies basiert auf der Annahme, dass nach Abbau der Vorräte bei Kunden \\ndie weltweite Nachfrage in den Automatisierungsgeschäften insbesondere in China \\nin der zweiten Hälfte des Geschäftsjahres wieder anziehen wird. Die Ergebnismarge \\nwird zwischen 20  Prozent  und 23  Prozent  erwartet.  \\n Smart Infrastructure  erwartet im Geschäftsjahr 2024 ein Umsatzerlöswachstum auf \\nvergleichbarer Basis zwischen 7 Prozent und 10 Prozent und eine Ergebnismarge in \\neiner Bandbreite von 15 Prozent bis 17 Prozent.  \\nMobility  beabsichtigt, im Geschäftsjahr 2024 ein Umsatzerlöswachstum auf \\nvergleichbarer Basis zwischen 8 Prozent und 11 Prozent zu erzielen. Die \\nErgebnismarge wird zwischen 8 Prozent und 10 Prozent erwartet.  \\nEs wird davon ausgegangen, dass im Geschäftsjahr 2024 durch das profitable \\nWachstum des Industriellen Geschäfts ein höheres unverwässertes Ergebnis je \\nAktie (für den Gewinn nach Steuern) vor Effekten aus der Kaufpreisallokation (EPS \\npre PPA), ohne Berücksi chtigung von Siemens Energy Beteiligung, in einer \\nBandbreite von 10,40 Euro bis 11,00 Euro erreicht wird, gegenüber einem EPS pre \\nPPA, ohne Berücksichtigung von Siemens Energy Beteiligung, von 9,93 Euro im \\nGeschäftsjahr 2023.  '"
      ]
     },
     "execution_count": 19,
     "metadata": {},
     "output_type": "execute_result"
    }
   ],
   "source": [
    "combined_text = \"\\n\".join(texts)\n",
    "combined_text"
   ]
  },
  {
   "cell_type": "markdown",
   "metadata": {},
   "source": [
    "## BerTopic - Textbereinigung"
   ]
  },
  {
   "cell_type": "code",
   "execution_count": 20,
   "metadata": {},
   "outputs": [],
   "source": [
    "from bertopic import BERTopic"
   ]
  },
  {
   "cell_type": "code",
   "execution_count": 21,
   "metadata": {},
   "outputs": [
    {
     "name": "stderr",
     "output_type": "stream",
     "text": [
      "[nltk_data] Downloading package punkt to\n",
      "[nltk_data]     C:\\Users\\paulm\\AppData\\Roaming\\nltk_data...\n",
      "[nltk_data]   Package punkt is already up-to-date!\n",
      "[nltk_data] Downloading package stopwords to\n",
      "[nltk_data]     C:\\Users\\paulm\\AppData\\Roaming\\nltk_data...\n",
      "[nltk_data]   Package stopwords is already up-to-date!\n"
     ]
    }
   ],
   "source": [
    "# Stopwörter\n",
    "import nltk \n",
    "nltk.download('punkt')\n",
    "nltk.download('stopwords')\n",
    "from nltk.corpus import stopwords\n",
    "from nltk.tokenize import word_tokenize\n",
    "stopwords=set(stopwords.words('german'))"
   ]
  },
  {
   "cell_type": "code",
   "execution_count": 22,
   "metadata": {},
   "outputs": [],
   "source": [
    "# Funktion, um Stopwörter aus Text zu entfernen\n",
    "def remove_stopwords(text):\n",
    "    tokenized_text = nltk.word_tokenize(text)\n",
    "    filtered_tokens = [word for word in tokenized_text if word.lower() not in stopwords]\n",
    "    filtered_text = ' '.join(filtered_tokens)\n",
    "    return filtered_text"
   ]
  },
  {
   "cell_type": "code",
   "execution_count": 23,
   "metadata": {},
   "outputs": [],
   "source": [
    "# Entfernen der Stopwörter aus dem Text\n",
    "combined_text_cleaned = remove_stopwords(combined_text)"
   ]
  },
  {
   "cell_type": "code",
   "execution_count": 24,
   "metadata": {},
   "outputs": [
    {
     "data": {
      "text/plain": [
       "'Siemens abgelaufenen Geschäftsjahr 2023 ( 30 . September 202 3 ) profitablen Wachstumskurs erfolgreich fortgesetzt zahlreiche Rekorde erzielt . historische Bestl eistung operativen Geschäft ließ Umsatzerlöse Gesamtjahr 11 Prozent vergleichbarer Basis Währungsumrechnungs - Portfolioeffekte obere Ende angehobenen Prognose ( 9 Prozent 11 Prozent ) steigen . Sowohl Ergebn is Profitabilität Industriellen Geschäfts Gewinn Steuern erreichten neue Rekordwert e. hervorragenden Leistung Unternehmens sollen Anteilseigner profitieren . Aufsichtsrat Vorstand schlagen , Dividende 4,25 Euro Vorjahr 4,70 Euro je Aktie erhöhen . „ Geschäftsjahr 2023 Jahr zahlreichen Rekorden : Industriellen Geschäft erreichten Ergebnis Profitabilität höchsten Werte Zeiten . Gewinn Steuern fast verdoppelt historischen Höchststand erreicht . möchte Kolleginnen Kollegen ganzen Welt großes Engagement danken , hervorragenden Ergebnissen beigetragen . Strategie zahlt beschleunigen weiterhin digitale nachhaltige Transformation unserer Kunden ” , sa gte Roland Busch , Vorstandsvorsitzender Siemens AG . „ Siemens Geschäftsjahr 2023 wertsteigerndes Wachstum fortgesetzt erstmals Free Cash Flow mehr zehn Milliarden Euro erzielt ” , sagte Ralf P. Thomas , Chief Financial Officer Siemens AG . „ Erfolg profitieren ere Aktionärinnen Aktionäre vorgeschlagenen Erhöhung Dividende 4,70 Euro , korrespondierenden Dividendenrendite 3,5 Prozent ausge weiteten Aktienrückkauf. “ Gewinn Steuern fast verdoppelt – Free Cash Flow Bestwert Siemens steigerte abgelaufenen Geschäftsjahr Umsatzerlöse vergleichbarer Basis 11 Prozent 7 7,8 Milliarden Euro ( GJ 202 2 : 72,0 Milliarden Euro ) . Auftragseingang verzeichnete Anstieg vergleichbarer Basis 7 Prozent 92,3 Milliarden Euro ( GJ 202 2 : 89,0 Milliarden Euro ) . Verhältnis Auftragseingang Umsatzerlösen ( „ Book -to-Bill-Ratio “ ) liegt 1 , 19 ausgezeichneten Niveau ( GJ 202 2 : 1,24 ) . Auftragsbestand erreichte 1 11 Milliarden Euro erneut Rekordwert hoher Qualität . digitale Geschäft wächst weiterhin schnell verzeichnete Anstieg rund 12 Prozent 7,3 Milliarden Euro ( GJ 2022 : 6,5 Milliarden Euro ) . Siemens avisierte Wachst umsrate durchschnittlichen jährlichen Wachstum 10 Prozent Geschäftsjahr deutlich übertr offen . Ergebnis Industrielle n Geschäft s stieg 1 1 Prozent 11,4 Milliarden Euro ( GJ 2022 : 10,3 Milliarden Euro ) . Ergebnismarge Industrielle n Geschäft s verbesserte 15,4 Prozent ( GJ 2022 : 15,1 Prozent ) . Gewinn Steuern erreichte 8,5 Milliarden Euro Gewinn Steuern 4,4 Milliarden Euro Geschäftsjahr 202 2 . drei Werte Bestmarken Unternehmensgeschichte . unverwässerte Ergebnis je Aktie Effekten Kaufpreisallokation ( EPS pre PPA ) belief entsprechend 10,77 Euro ( GJ 2022 : 5,47 Euro ) ; Berücksichtigung Siemens Energy Beteiligung , 0,84 Euro EPS pre PPA beitrug , lag EPS pre PPA 9,93 Euro übertraf Prognose ( 9,60 Euro 9,90 Euro ) . sogenannte Free Cash Flow „ all -in “ fortgeführten fortgeführten Aktivitäten erreichte Konzernebene Rekordwert lag erstmals 10,0 Milliarden Euro ( GJ 202 2 : 8,2 Milliarden Euro ) . Industrielle Geschäft verzeichnete ebenfalls neuen Höchstwert beim Free Cash Flow 10,4 Milliarden Euro ( GJ 2022 : 9,7 Milliarden Euro ) . Starker Abschluss vierten Quartal Rekorden i n industriellen Geschäften vierten Quartal stieg Auftragseingang vergleichbarer Basis 6 Prozent 21,8 Milliarden Euro höherem Volumen Großaufträgen Mobility sowie Wachstum Siemens Healthineers Smart Infrastructure . Ebenso stiegen Umsatzerlöse vergleichbarer Basis 10 Prozent 2 1,4 Milliarden Euro ( Q4 202 2 : 20,6 Milliarden Euro ) . Umsatzerlöse lagen industriellen Geschäften Rekordniveau , wobei größte Wachstumsbeitrag Smart Infrastructure kam . Ergebnis dustriellen Geschäfts nahm 7 Prozent 3,4 Milliarden Euro verzeichnete aufgrund beträchtlicher Zuwächse Digital Industries Smart Infrastructure höchsten jemals erzielten Quartalswert . Ergebnismarge erreichte 16,5 Prozent . Gewinn Steuern betrug 1,9 Milliarden Euro 2,9 Milliarden Euro Vorjahresquartal , Gewinn 1,1 Milliarden Euro ( Steuern ) Verkauf Brief- Paketabwicklungsgeschäfts begünstigt . Innomotics : Vorbereitung weiterer Optionen Eigenständigkeit Verselbständigung Innomotics wurde , geplant , erfolgreich umgesetzt weitestgehend abgeschlossen . neue Unternehmen steht Kunden , Lieferanten 15.000 Beschäftigten Leistungsfähigkeit Innovationsstärke . gute Geschäftsentwicklung gesunder Auftragsbestand unterstreichen starke Positionierung Innomotics führender Anbieter Großantriebe Motoren . Voraussetzungen gescha ffen , weiteren Schritte Eigenständigkeit nomotics Position Stärke heraus einzuleiten . Daher Siemens Vorbereitung Börsennotierung Innomotics beginnen . Gleichzeitig Angebote Dritten sorgfältig geprüft gegebenenfalls Alternative Börsennotierung Betracht gezogen . sichergestellt , künftige Eigentümerstruktur beste Rahmenbedingungen nachhaltige , wachstumsorientierte wertsteigernde Entwicklung bietet . Ausblick Geschäftsjahr 2024 Prognose Siemens -Konzern Geschäftsjahr 2024 beruht Annahme , geopolitischen Spannungen zunehmen . Bedingung erwartet , Industrielle Geschäft profitabel wachsen . Siemens -Konzern Umsatzerlöswachstum vergleichbarer Basis ( bereinigt Währungsumrechnungs - Portfolioeffekte ) Bandbreite 4 Prozent 8 Prozent Verhältnis Auftragseingang Umsatzerlösen ( Book -to-Bill-Verhältnis ) 1 erwartet . Digital Industries prognostiziert Geschäftsjahr 2024 Entwicklung Umsatzerlöse vergleichbarer Basis Bandbreite 0 Prozent 3 Prozent . basiert Annahme , Abbau Vorräte Kunden weltweite Nachfrage Automatisierungsgeschäften insbesondere China zweiten Hälfte Geschäftsjahres anziehen . Ergebnismarge 20 Prozent 23 Prozent erwartet . Smart Infrastructure erwartet Geschäftsjahr 2024 Umsatzerlöswachstum vergleichbarer Basis 7 Prozent 10 Prozent Ergebnismarge Bandbreite 15 Prozent 17 Prozent . Mobility beabsichtigt , Geschäftsjahr 2024 Umsatzerlöswachstum vergleichbarer Basis 8 Prozent 11 Prozent erzielen . Ergebnismarge 8 Prozent 10 Prozent erwartet . davon ausgegangen , Geschäftsjahr 2024 profitable Wachstum Industriellen Geschäfts höheres unverwässertes Ergebnis je Aktie ( Gewinn Steuern ) Effekten Kaufpreisallokation ( EPS pre PPA ) , Berücksi chtigung Siemens Energy Beteiligung , Bandbreite 10,40 Euro 11,00 Euro erreicht , gegenüber EPS pre PPA , Berücksichtigung Siemens Energy Beteiligung , 9,93 Euro Geschäftsjahr 2023 .'"
      ]
     },
     "execution_count": 24,
     "metadata": {},
     "output_type": "execute_result"
    }
   ],
   "source": [
    "combined_text_cleaned"
   ]
  },
  {
   "cell_type": "markdown",
   "metadata": {},
   "source": [
    "## BerTopic - Modell erstellen und trainieren"
   ]
  },
  {
   "cell_type": "code",
   "execution_count": null,
   "metadata": {},
   "outputs": [],
   "source": []
  },
  {
   "cell_type": "markdown",
   "metadata": {},
   "source": [
    "## Sonstiges"
   ]
  },
  {
   "cell_type": "code",
   "execution_count": 74,
   "metadata": {},
   "outputs": [],
   "source": [
    "# Definieren Sie den zu entfernenden Absatz\n",
    "pattern_to_remove = r\"\\nSiemens AG  \\nCommunications  \\nLeitung: Lynette Jackson  \\n Werner -von-Siemens -Straße 1  \\n80333 München  \\nDeutschlan d \\nInformationsnummer:  HQCOPR202311156818DE   Siemens AG  Presseinformation  \\n \\n \\nInformationsnummer: HQCOPR202311156818DE  Seite 2/6 \\n\"\n",
    "pattern_to_remove_2 = r\"Siemens AG  Presseinformation  \\n \\n \\nInformationsnummer: HQCOPR202311156818DE  Seite 5/6 \\n\"\n",
    "pattern_to_remove_3 = r\"\\nInformationsnummer: HQCOPR202311156818DE  Seite 3/6 \\n\"\n",
    "pattern_to_remove_4 = r\"\\nInformationsnummer: HQCOPR202311156818DE  Seite 4/6 \\n\"\n",
    "pattern_to_remove_5 = r\"\\nInformationsnummer: HQCOPR202311156818DE  Seite 5/6 \\n\"\n",
    "pattern_to_remove_6 = r\"\\nInformationsnummer: HQCOPR202311156818DE  Seite 6/6 \\n\"\n",
    "pattern_to_remove_7 = r\" Siemens AG  Presseinformation  \\n \\n \"\n",
    "\n",
    "# Entfernen Sie den definierten Absatz aus dem Text\n",
    "text_without_paragraph = re.sub(pattern_to_remove, \"\", text)\n",
    "text_without_paragraph = re.sub(pattern_to_remove_2, \"\", text_without_paragraph)\n",
    "text_without_paragraph = re.sub(pattern_to_remove_3, \"\", text_without_paragraph)\n",
    "text_without_paragraph = re.sub(pattern_to_remove_4, \"\", text_without_paragraph)\n",
    "text_without_paragraph = re.sub(pattern_to_remove_5, \"\", text_without_paragraph)\n",
    "text_without_paragraph = re.sub(pattern_to_remove_6, \"\", text_without_paragraph)\n",
    "text_without_paragraph = re.sub(pattern_to_remove_7, \"\", text_without_paragraph)\n",
    "text_without_paragraph"
   ]
  },
  {
   "cell_type": "code",
   "execution_count": null,
   "metadata": {},
   "outputs": [],
   "source": []
  }
 ],
 "metadata": {
  "kernelspec": {
   "display_name": "NLP_Blueprints_CAS1",
   "language": "python",
   "name": "python3"
  },
  "language_info": {
   "codemirror_mode": {
    "name": "ipython",
    "version": 3
   },
   "file_extension": ".py",
   "mimetype": "text/x-python",
   "name": "python",
   "nbconvert_exporter": "python",
   "pygments_lexer": "ipython3",
   "version": "3.8.17"
  }
 },
 "nbformat": 4,
 "nbformat_minor": 2
}
