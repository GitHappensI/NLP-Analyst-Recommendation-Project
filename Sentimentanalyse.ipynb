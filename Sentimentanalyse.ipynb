{
 "cells": [
  {
   "cell_type": "code",
   "execution_count": 3,
   "metadata": {},
   "outputs": [],
   "source": [
    "import pandas as pd\n",
    "import numpy as np\n",
    "from datetime import datetime\n",
    "import nltk\n",
    "import re"
   ]
  },
  {
   "cell_type": "markdown",
   "metadata": {},
   "source": [
    "## Datenvorbereitung"
   ]
  },
  {
   "cell_type": "code",
   "execution_count": 43,
   "metadata": {},
   "outputs": [],
   "source": [
    "df = pd.read_excel(\"data_analyst_recommendations.xlsx\")"
   ]
  },
  {
   "cell_type": "code",
   "execution_count": 44,
   "metadata": {},
   "outputs": [],
   "source": [
    "def convert_date_format(date_str):\n",
    "    if date_str == \"Fr\":\n",
    "        # Ersetzen Sie \"Fr\" durch ein leeres Zeichen\n",
    "        date_str = date_str.replace(\"Fr\", \"02.02.\").strip()\n",
    "\n",
    "    # Überprüfen Sie, ob das Jahr bereits vorhanden ist\n",
    "    if len(date_str.split(\".\")[2]) == 0:\n",
    "        # Fügen Sie das Jahr hinzu (nehmen Sie das aktuelle Jahr an, wenn nicht angegeben)\n",
    "        date_str = f\"{date_str}{datetime.now().year}\"\n",
    "        date_str = datetime.strptime(date_str, \"%d.%m.%Y\")\n",
    "    else:\n",
    "        date_str = datetime.strptime(date_str, \"%d.%m.%y\")\n",
    "\n",
    "    # Formatieren Sie das Datum für die Ausgabe\n",
    "    return date_str.strftime(\"%d.%m.%Y\")"
   ]
  },
  {
   "cell_type": "code",
   "execution_count": 45,
   "metadata": {},
   "outputs": [],
   "source": [
    "formatted_dates = [convert_date_format(date) for date in df[\"date\"]]\n",
    "df[\"date\"] = formatted_dates"
   ]
  },
  {
   "cell_type": "code",
   "execution_count": 46,
   "metadata": {},
   "outputs": [],
   "source": [
    "df[\"date\"] = pd.to_datetime(df[\"date\"], format=\"%d.%m.%Y\")"
   ]
  },
  {
   "cell_type": "code",
   "execution_count": 47,
   "metadata": {},
   "outputs": [],
   "source": [
    "df.set_index(\"date\", inplace=True)"
   ]
  },
  {
   "cell_type": "markdown",
   "metadata": {},
   "source": [
    "## Datenbereinigung"
   ]
  },
  {
   "cell_type": "code",
   "execution_count": 48,
   "metadata": {},
   "outputs": [],
   "source": [
    "cities = [city.split(\" - \")[0] for city in df[\"recommendation\"]]\n",
    "recommendations = [recommendation.split(\" - \")[1] for recommendation in df[\"recommendation\"]]"
   ]
  },
  {
   "cell_type": "code",
   "execution_count": 49,
   "metadata": {},
   "outputs": [],
   "source": [
    "recommendations_cleaned = [recommendation.split(\"./\")[0] for recommendation in recommendations]"
   ]
  },
  {
   "cell_type": "code",
   "execution_count": 50,
   "metadata": {},
   "outputs": [],
   "source": [
    "cities_cleaned = [city.split(\" (\")[0] for city in cities]"
   ]
  },
  {
   "cell_type": "code",
   "execution_count": 51,
   "metadata": {},
   "outputs": [],
   "source": [
    "df[\"recommendation\"] = recommendations_cleaned"
   ]
  },
  {
   "cell_type": "code",
   "execution_count": 52,
   "metadata": {},
   "outputs": [],
   "source": [
    "df[\"city\"] = cities_cleaned"
   ]
  },
  {
   "cell_type": "markdown",
   "metadata": {},
   "source": [
    "## Stoppwörter ausschließen"
   ]
  },
  {
   "cell_type": "code",
   "execution_count": 73,
   "metadata": {},
   "outputs": [],
   "source": [
    "# Extrahieren aller label aus den Titeln, um diese als Stopwörter auszuschließen\n",
    "stopwords = set()\n",
    "\n",
    "for title in df[\"title\"]:\n",
    "    stopwords.update(re.findall(r\"'([^']*)'\", title))"
   ]
  },
  {
   "cell_type": "code",
   "execution_count": 76,
   "metadata": {},
   "outputs": [],
   "source": [
    "# Definition einer Liste mit diesen Stoppwörtern\n",
    "custom_stopwords = [word.lower() for word in stopwords]"
   ]
  },
  {
   "cell_type": "code",
   "execution_count": 82,
   "metadata": {},
   "outputs": [
    {
     "data": {
      "text/plain": [
       "['outperform',\n",
       " 'neutral',\n",
       " 'hold',\n",
       " 'overweight',\n",
       " 'underperform',\n",
       " 'buy',\n",
       " 'kaufen',\n",
       " 'underweight',\n",
       " \"''\",\n",
       " \"''\",\n",
       " '``']"
      ]
     },
     "execution_count": 82,
     "metadata": {},
     "output_type": "execute_result"
    }
   ],
   "source": [
    "# Manuelle Ergänzungen der Liste\n",
    "custom_stopwords.append(\"''\")\n",
    "custom_stopwords.append(\"``\")\n",
    "custom_stopwords"
   ]
  },
  {
   "cell_type": "code",
   "execution_count": 83,
   "metadata": {},
   "outputs": [],
   "source": [
    "filtered_text_list = []"
   ]
  },
  {
   "cell_type": "code",
   "execution_count": 84,
   "metadata": {},
   "outputs": [],
   "source": [
    "# Tokenisieren Sie den Text\n",
    "for text in df[\"recommendation\"]:\n",
    "    # Tokenisieren der Empfehlungen\n",
    "    tokenized_text = nltk.word_tokenize(text)\n",
    "\n",
    "    # Stopwörter aus Text entfernen\n",
    "    filtered_tokens = [word for word in tokenized_text if word.lower() not in custom_stopwords]\n",
    "\n",
    "    # Verbinden der verbleibenden Wörter zu einem Text\n",
    "    filtered_text = ' '.join(filtered_tokens)\n",
    "\n",
    "    filtered_text_list.append(filtered_text)"
   ]
  },
  {
   "cell_type": "code",
   "execution_count": 87,
   "metadata": {},
   "outputs": [],
   "source": [
    "filtered_text_list_cleaned = [text.replace(\" .\", \".\").replace(\" ,\", \",\") for text in filtered_text_list]"
   ]
  },
  {
   "cell_type": "code",
   "execution_count": 89,
   "metadata": {},
   "outputs": [],
   "source": [
    "df[\"recommendation_cleaned\"] = filtered_text_list_cleaned"
   ]
  },
  {
   "cell_type": "code",
   "execution_count": 90,
   "metadata": {},
   "outputs": [
    {
     "data": {
      "text/html": [
       "<div>\n",
       "<style scoped>\n",
       "    .dataframe tbody tr th:only-of-type {\n",
       "        vertical-align: middle;\n",
       "    }\n",
       "\n",
       "    .dataframe tbody tr th {\n",
       "        vertical-align: top;\n",
       "    }\n",
       "\n",
       "    .dataframe thead th {\n",
       "        text-align: right;\n",
       "    }\n",
       "</style>\n",
       "<table border=\"1\" class=\"dataframe\">\n",
       "  <thead>\n",
       "    <tr style=\"text-align: right;\">\n",
       "      <th></th>\n",
       "      <th>title</th>\n",
       "      <th>link</th>\n",
       "      <th>recommendation</th>\n",
       "      <th>city</th>\n",
       "      <th>recommendation_cleaned</th>\n",
       "    </tr>\n",
       "    <tr>\n",
       "      <th>date</th>\n",
       "      <th></th>\n",
       "      <th></th>\n",
       "      <th></th>\n",
       "      <th></th>\n",
       "      <th></th>\n",
       "    </tr>\n",
       "  </thead>\n",
       "  <tbody>\n",
       "    <tr>\n",
       "      <th>2024-02-02</th>\n",
       "      <td>DEUTSCHE BANK RESEARCH stuft SIEMENS AG auf 'Buy'</td>\n",
       "      <td>https://www.finanznachrichten.de/nachrichten-2...</td>\n",
       "      <td>Deutsche Bank Research hat die Einstufung für ...</td>\n",
       "      <td>FRANKFURT</td>\n",
       "      <td>Deutsche Bank Research hat die Einstufung für ...</td>\n",
       "    </tr>\n",
       "    <tr>\n",
       "      <th>2024-01-23</th>\n",
       "      <td>BERNSTEIN RESEARCH stuft SIEMENS AG auf 'Outpe...</td>\n",
       "      <td>https://www.finanznachrichten.de/nachrichten-2...</td>\n",
       "      <td>Das US-Analysehaus Bernstein Research hat die ...</td>\n",
       "      <td>NEW YORK</td>\n",
       "      <td>Das US-Analysehaus Bernstein Research hat die ...</td>\n",
       "    </tr>\n",
       "    <tr>\n",
       "      <th>2024-01-22</th>\n",
       "      <td>JPMORGAN stuft SIEMENS AG auf 'Overweight'</td>\n",
       "      <td>https://www.finanznachrichten.de/nachrichten-2...</td>\n",
       "      <td>Die US-Bank JPMorgan hat die Einstufung für Si...</td>\n",
       "      <td>NEW YORK</td>\n",
       "      <td>Die US-Bank JPMorgan hat die Einstufung für Si...</td>\n",
       "    </tr>\n",
       "    <tr>\n",
       "      <th>2024-01-22</th>\n",
       "      <td>DZ BANK stuft SIEMENS AG auf 'Kaufen'</td>\n",
       "      <td>https://www.finanznachrichten.de/nachrichten-2...</td>\n",
       "      <td>Die DZ Bank hat den fairen Wert für die Aktien...</td>\n",
       "      <td>FRANKFURT</td>\n",
       "      <td>Die DZ Bank hat den fairen Wert für die Aktien...</td>\n",
       "    </tr>\n",
       "    <tr>\n",
       "      <th>2024-01-15</th>\n",
       "      <td>JPMORGAN stuft SIEMENS AG auf 'Overweight'</td>\n",
       "      <td>https://www.finanznachrichten.de/nachrichten-2...</td>\n",
       "      <td>Die US-Bank JPMorgan hat die Einstufung für Si...</td>\n",
       "      <td>NEW YORK</td>\n",
       "      <td>Die US-Bank JPMorgan hat die Einstufung für Si...</td>\n",
       "    </tr>\n",
       "    <tr>\n",
       "      <th>...</th>\n",
       "      <td>...</td>\n",
       "      <td>...</td>\n",
       "      <td>...</td>\n",
       "      <td>...</td>\n",
       "      <td>...</td>\n",
       "    </tr>\n",
       "    <tr>\n",
       "      <th>2023-02-09</th>\n",
       "      <td>DEUTSCHE BANK RESEARCH stuft SIEMENS AG auf 'Buy'</td>\n",
       "      <td>https://www.finanznachrichten.de/nachrichten-2...</td>\n",
       "      <td>Deutsche Bank Research hat das Kursziel für Si...</td>\n",
       "      <td>FRANKFURT</td>\n",
       "      <td>Deutsche Bank Research hat das Kursziel für Si...</td>\n",
       "    </tr>\n",
       "    <tr>\n",
       "      <th>2023-02-09</th>\n",
       "      <td>BARCLAYS stuft SIEMENS AG auf 'Underweight'</td>\n",
       "      <td>https://www.finanznachrichten.de/nachrichten-2...</td>\n",
       "      <td>Die britische Investmentbank Barclays hat die ...</td>\n",
       "      <td>LONDON</td>\n",
       "      <td>Die britische Investmentbank Barclays hat die ...</td>\n",
       "    </tr>\n",
       "    <tr>\n",
       "      <th>2023-02-09</th>\n",
       "      <td>GOLDMAN SACHS stuft SIEMENS AG auf 'Buy'</td>\n",
       "      <td>https://www.finanznachrichten.de/nachrichten-2...</td>\n",
       "      <td>Die US-Investmentbank Goldman Sachs hat Siemen...</td>\n",
       "      <td>NEW YORK</td>\n",
       "      <td>Die US-Investmentbank Goldman Sachs hat Siemen...</td>\n",
       "    </tr>\n",
       "    <tr>\n",
       "      <th>2023-02-09</th>\n",
       "      <td>UBS stuft SIEMENS AG auf 'Buy'</td>\n",
       "      <td>https://www.finanznachrichten.de/nachrichten-2...</td>\n",
       "      <td>Die Schweizer Großbank UBS hat Siemens nach Qu...</td>\n",
       "      <td>ZÜRICH</td>\n",
       "      <td>Die Schweizer Großbank UBS hat Siemens nach Qu...</td>\n",
       "    </tr>\n",
       "    <tr>\n",
       "      <th>2023-02-08</th>\n",
       "      <td>JEFFERIES stuft SIEMENS AG auf 'Buy'</td>\n",
       "      <td>https://www.finanznachrichten.de/nachrichten-2...</td>\n",
       "      <td>Das Analysehaus Jefferies hat die Einstufung f...</td>\n",
       "      <td>NEW YORK</td>\n",
       "      <td>Das Analysehaus Jefferies hat die Einstufung f...</td>\n",
       "    </tr>\n",
       "  </tbody>\n",
       "</table>\n",
       "<p>147 rows × 5 columns</p>\n",
       "</div>"
      ],
      "text/plain": [
       "                                                        title  \\\n",
       "date                                                            \n",
       "2024-02-02  DEUTSCHE BANK RESEARCH stuft SIEMENS AG auf 'Buy'   \n",
       "2024-01-23  BERNSTEIN RESEARCH stuft SIEMENS AG auf 'Outpe...   \n",
       "2024-01-22         JPMORGAN stuft SIEMENS AG auf 'Overweight'   \n",
       "2024-01-22              DZ BANK stuft SIEMENS AG auf 'Kaufen'   \n",
       "2024-01-15         JPMORGAN stuft SIEMENS AG auf 'Overweight'   \n",
       "...                                                       ...   \n",
       "2023-02-09  DEUTSCHE BANK RESEARCH stuft SIEMENS AG auf 'Buy'   \n",
       "2023-02-09        BARCLAYS stuft SIEMENS AG auf 'Underweight'   \n",
       "2023-02-09           GOLDMAN SACHS stuft SIEMENS AG auf 'Buy'   \n",
       "2023-02-09                     UBS stuft SIEMENS AG auf 'Buy'   \n",
       "2023-02-08               JEFFERIES stuft SIEMENS AG auf 'Buy'   \n",
       "\n",
       "                                                         link  \\\n",
       "date                                                            \n",
       "2024-02-02  https://www.finanznachrichten.de/nachrichten-2...   \n",
       "2024-01-23  https://www.finanznachrichten.de/nachrichten-2...   \n",
       "2024-01-22  https://www.finanznachrichten.de/nachrichten-2...   \n",
       "2024-01-22  https://www.finanznachrichten.de/nachrichten-2...   \n",
       "2024-01-15  https://www.finanznachrichten.de/nachrichten-2...   \n",
       "...                                                       ...   \n",
       "2023-02-09  https://www.finanznachrichten.de/nachrichten-2...   \n",
       "2023-02-09  https://www.finanznachrichten.de/nachrichten-2...   \n",
       "2023-02-09  https://www.finanznachrichten.de/nachrichten-2...   \n",
       "2023-02-09  https://www.finanznachrichten.de/nachrichten-2...   \n",
       "2023-02-08  https://www.finanznachrichten.de/nachrichten-2...   \n",
       "\n",
       "                                               recommendation       city  \\\n",
       "date                                                                       \n",
       "2024-02-02  Deutsche Bank Research hat die Einstufung für ...  FRANKFURT   \n",
       "2024-01-23  Das US-Analysehaus Bernstein Research hat die ...   NEW YORK   \n",
       "2024-01-22  Die US-Bank JPMorgan hat die Einstufung für Si...   NEW YORK   \n",
       "2024-01-22  Die DZ Bank hat den fairen Wert für die Aktien...  FRANKFURT   \n",
       "2024-01-15  Die US-Bank JPMorgan hat die Einstufung für Si...   NEW YORK   \n",
       "...                                                       ...        ...   \n",
       "2023-02-09  Deutsche Bank Research hat das Kursziel für Si...  FRANKFURT   \n",
       "2023-02-09  Die britische Investmentbank Barclays hat die ...     LONDON   \n",
       "2023-02-09  Die US-Investmentbank Goldman Sachs hat Siemen...   NEW YORK   \n",
       "2023-02-09  Die Schweizer Großbank UBS hat Siemens nach Qu...     ZÜRICH   \n",
       "2023-02-08  Das Analysehaus Jefferies hat die Einstufung f...   NEW YORK   \n",
       "\n",
       "                                       recommendation_cleaned  \n",
       "date                                                           \n",
       "2024-02-02  Deutsche Bank Research hat die Einstufung für ...  \n",
       "2024-01-23  Das US-Analysehaus Bernstein Research hat die ...  \n",
       "2024-01-22  Die US-Bank JPMorgan hat die Einstufung für Si...  \n",
       "2024-01-22  Die DZ Bank hat den fairen Wert für die Aktien...  \n",
       "2024-01-15  Die US-Bank JPMorgan hat die Einstufung für Si...  \n",
       "...                                                       ...  \n",
       "2023-02-09  Deutsche Bank Research hat das Kursziel für Si...  \n",
       "2023-02-09  Die britische Investmentbank Barclays hat die ...  \n",
       "2023-02-09  Die US-Investmentbank Goldman Sachs hat Siemen...  \n",
       "2023-02-09  Die Schweizer Großbank UBS hat Siemens nach Qu...  \n",
       "2023-02-08  Das Analysehaus Jefferies hat die Einstufung f...  \n",
       "\n",
       "[147 rows x 5 columns]"
      ]
     },
     "execution_count": 90,
     "metadata": {},
     "output_type": "execute_result"
    }
   ],
   "source": [
    "df"
   ]
  },
  {
   "cell_type": "markdown",
   "metadata": {},
   "source": [
    "## FinBERT"
   ]
  },
  {
   "cell_type": "code",
   "execution_count": null,
   "metadata": {},
   "outputs": [],
   "source": [
    "from transformers import pipeline\n",
    "pipe = pipeline(\"text-classification\", model=\"scherrmann/GermanFinBert_SC_Sentiment\")"
   ]
  },
  {
   "cell_type": "markdown",
   "metadata": {},
   "source": [
    "## Sonstiges"
   ]
  },
  {
   "cell_type": "code",
   "execution_count": 42,
   "metadata": {},
   "outputs": [
    {
     "data": {
      "text/plain": [
       "[{'label': 'Negativ', 'score': 0.9872450232505798}]"
      ]
     },
     "execution_count": 42,
     "metadata": {},
     "output_type": "execute_result"
    }
   ],
   "source": [
    "pipe(filtered_text)"
   ]
  },
  {
   "cell_type": "code",
   "execution_count": 41,
   "metadata": {},
   "outputs": [
    {
     "name": "stdout",
     "output_type": "stream",
     "text": [
      "Die US-Investmentbank Morgan Stanley hat die Einstufung für Siemens auf mit einem Kursziel von 164 Euro belassen . Die nachlassende Nachfrage im europäischen Investitionsgütersektor stelle ein Problem für das zweite Halbjahr dar , schrieb Analyst Ben Uglow in einer am Mittwoch vorliegenden Branchenstudie . Die normalisierten Lieferketten sorgten für den Abbau von Lagerbeständen bei den Kunden . Zudem bestünden Risiken für die operativen Margen im kommenden Jahr\n",
      "[]\n"
     ]
    }
   ],
   "source": [
    "# Beispieltext\n",
    "text = 'Die US-Investmentbank Morgan Stanley hat die Einstufung für Siemens auf \"Overweight\" mit einem Kursziel von 164 Euro belassen. Die nachlassende Nachfrage im europäischen Investitionsgütersektor stelle ein Problem für das zweite Halbjahr dar, schrieb Analyst Ben Uglow in einer am Mittwoch vorliegenden Branchenstudie. Die normalisierten Lieferketten sorgten für den Abbau von Lagerbeständen bei den Kunden. Zudem bestünden Risiken für die operativen Margen im kommenden Jahr'\n",
    "\n",
    "# Regulärer Ausdruck für Wörter, die auf \"*wachstum\" enden\n",
    "pattern = re.compile(r'\\b(?:gewinn|umsatz|\\w*wachstum)\\b', flags=re.IGNORECASE)\n",
    "\n",
    "# Finden Sie alle Übereinstimmungen\n",
    "matches = pattern.findall(text.lower())\n",
    "\n",
    "# Ihre eigene Liste von Stopwörtern\n",
    "custom_stopwords = ['``', \"''\", \"underweight\", \"wachstum\", \"buy\", \"overweight\", \"outperform\", \"underperform\"]\n",
    "\n",
    "# Fügen Sie die gefundenen Übereinstimmungen zu den Stopwörtern hinzu\n",
    "custom_stopwords += matches\n",
    "\n",
    "# Tokenisieren Sie den Text\n",
    "tokens = nltk.word_tokenize(text)\n",
    "\n",
    "# Entfernen Sie die Stopwörter\n",
    "filtered_tokens = [word for word in tokens if word.lower() not in custom_stopwords]\n",
    "\n",
    "# Verbinden Sie die verbleibenden Wörter zu einem Text\n",
    "filtered_text = ' '.join(filtered_tokens)\n",
    "\n",
    "print(filtered_text)\n",
    "print(matches)"
   ]
  },
  {
   "cell_type": "code",
   "execution_count": null,
   "metadata": {},
   "outputs": [],
   "source": []
  }
 ],
 "metadata": {
  "kernelspec": {
   "display_name": "NLP_Blueprints_CAS1",
   "language": "python",
   "name": "python3"
  },
  "language_info": {
   "codemirror_mode": {
    "name": "ipython",
    "version": 3
   },
   "file_extension": ".py",
   "mimetype": "text/x-python",
   "name": "python",
   "nbconvert_exporter": "python",
   "pygments_lexer": "ipython3",
   "version": "3.8.17"
  }
 },
 "nbformat": 4,
 "nbformat_minor": 2
}
